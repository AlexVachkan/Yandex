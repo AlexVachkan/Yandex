{
 "cells": [
  {
   "cell_type": "markdown",
   "id": "807410e5",
   "metadata": {
    "toc": true
   },
   "source": [
    "<h1>Table of Contents<span class=\"tocSkip\"></span></h1>\n",
    "<div class=\"toc\"><ul class=\"toc-item\"><li><span><a href=\"#Введение\" data-toc-modified-id=\"Введение-1\"><span class=\"toc-item-num\">1&nbsp;&nbsp;</span>Введение</a></span><ul class=\"toc-item\"><li><span><a href=\"#Гипотезы:\" data-toc-modified-id=\"Гипотезы:-1.1\"><span class=\"toc-item-num\">1.1&nbsp;&nbsp;</span>Гипотезы:</a></span></li><li><span><a href=\"#Описание-данных\" data-toc-modified-id=\"Описание-данных-1.2\"><span class=\"toc-item-num\">1.2&nbsp;&nbsp;</span>Описание данных</a></span></li></ul></li><li><span><a href=\"#Загружаем-данные-и-подготовливаем-их-к-анализу\" data-toc-modified-id=\"Загружаем-данные-и-подготовливаем-их-к-анализу-2\"><span class=\"toc-item-num\">2&nbsp;&nbsp;</span>Загружаем данные и подготовливаем их к анализу</a></span><ul class=\"toc-item\"><li><span><a href=\"#Вывод:\" data-toc-modified-id=\"Вывод:-2.1\"><span class=\"toc-item-num\">2.1&nbsp;&nbsp;</span>Вывод:</a></span></li></ul></li><li><span><a href=\"#Приоритизация-гипотез\" data-toc-modified-id=\"Приоритизация-гипотез-3\"><span class=\"toc-item-num\">3&nbsp;&nbsp;</span>Приоритизация гипотез</a></span><ul class=\"toc-item\"><li><span><a href=\"#Посчитаем-ICE-для-гипотез\" data-toc-modified-id=\"Посчитаем-ICE-для-гипотез-3.1\"><span class=\"toc-item-num\">3.1&nbsp;&nbsp;</span>Посчитаем ICE для гипотез</a></span></li><li><span><a href=\"#Посчитаем-RICE-для-гипотез\" data-toc-modified-id=\"Посчитаем-RICE-для-гипотез-3.2\"><span class=\"toc-item-num\">3.2&nbsp;&nbsp;</span>Посчитаем RICE для гипотез</a></span></li><li><span><a href=\"#Вывод\" data-toc-modified-id=\"Вывод-3.3\"><span class=\"toc-item-num\">3.3&nbsp;&nbsp;</span>Вывод</a></span></li></ul></li><li><span><a href=\"#Анализ-А/В-теста\" data-toc-modified-id=\"Анализ-А/В-теста-4\"><span class=\"toc-item-num\">4&nbsp;&nbsp;</span>Анализ А/В-теста</a></span><ul class=\"toc-item\"><li><span><a href=\"#Постороим-график-кумулитивной-выручки-по-группам\" data-toc-modified-id=\"Постороим-график-кумулитивной-выручки-по-группам-4.1\"><span class=\"toc-item-num\">4.1&nbsp;&nbsp;</span>Постороим график кумулитивной выручки по группам</a></span><ul class=\"toc-item\"><li><span><a href=\"#Вывод\" data-toc-modified-id=\"Вывод-4.1.1\"><span class=\"toc-item-num\">4.1.1&nbsp;&nbsp;</span>Вывод</a></span></li></ul></li><li><span><a href=\"#Постороим-график-кумулитивного-среднего-чека-по-группам\" data-toc-modified-id=\"Постороим-график-кумулитивного-среднего-чека-по-группам-4.2\"><span class=\"toc-item-num\">4.2&nbsp;&nbsp;</span>Постороим график кумулитивного среднего чека по группам</a></span><ul class=\"toc-item\"><li><span><a href=\"#Вывод\" data-toc-modified-id=\"Вывод-4.2.1\"><span class=\"toc-item-num\">4.2.1&nbsp;&nbsp;</span>Вывод</a></span></li></ul></li><li><span><a href=\"#Постороим-график-относительного-изменения-кумулитивного-среднего-чека-группы-В-к-группе-А\" data-toc-modified-id=\"Постороим-график-относительного-изменения-кумулитивного-среднего-чека-группы-В-к-группе-А-4.3\"><span class=\"toc-item-num\">4.3&nbsp;&nbsp;</span>Постороим график относительного изменения кумулитивного среднего чека группы В к группе А</a></span><ul class=\"toc-item\"><li><span><a href=\"#Вывод\" data-toc-modified-id=\"Вывод-4.3.1\"><span class=\"toc-item-num\">4.3.1&nbsp;&nbsp;</span>Вывод</a></span></li></ul></li><li><span><a href=\"#Постороим-график-кумулитивной-конверсии-по-группам\" data-toc-modified-id=\"Постороим-график-кумулитивной-конверсии-по-группам-4.4\"><span class=\"toc-item-num\">4.4&nbsp;&nbsp;</span>Постороим график кумулитивной конверсии по группам</a></span><ul class=\"toc-item\"><li><span><a href=\"#Вывод\" data-toc-modified-id=\"Вывод-4.4.1\"><span class=\"toc-item-num\">4.4.1&nbsp;&nbsp;</span>Вывод</a></span></li></ul></li><li><span><a href=\"#Постороим-график-относительного-изменения-кумулитивной-конверсии-группы-В-к-группе-А\" data-toc-modified-id=\"Постороим-график-относительного-изменения-кумулитивной-конверсии-группы-В-к-группе-А-4.5\"><span class=\"toc-item-num\">4.5&nbsp;&nbsp;</span>Постороим график относительного изменения кумулитивной конверсии группы В к группе А</a></span><ul class=\"toc-item\"><li><span><a href=\"#Вывод\" data-toc-modified-id=\"Вывод-4.5.1\"><span class=\"toc-item-num\">4.5.1&nbsp;&nbsp;</span>Вывод</a></span></li></ul></li><li><span><a href=\"#Постороим-точечный-график-количества-заказов-по-пользователям\" data-toc-modified-id=\"Постороим-точечный-график-количества-заказов-по-пользователям-4.6\"><span class=\"toc-item-num\">4.6&nbsp;&nbsp;</span>Постороим точечный график количества заказов по пользователям</a></span><ul class=\"toc-item\"><li><span><a href=\"#Вывод\" data-toc-modified-id=\"Вывод-4.6.1\"><span class=\"toc-item-num\">4.6.1&nbsp;&nbsp;</span>Вывод</a></span></li></ul></li><li><span><a href=\"#Посчитаем-95-й-и-99-й-перцентиль-кол-ва-заказов-по-пользователям\" data-toc-modified-id=\"Посчитаем-95-й-и-99-й-перцентиль-кол-ва-заказов-по-пользователям-4.7\"><span class=\"toc-item-num\">4.7&nbsp;&nbsp;</span>Посчитаем 95-й и 99-й перцентиль кол-ва заказов по пользователям</a></span><ul class=\"toc-item\"><li><span><a href=\"#Вывод\" data-toc-modified-id=\"Вывод-4.7.1\"><span class=\"toc-item-num\">4.7.1&nbsp;&nbsp;</span>Вывод</a></span></li></ul></li><li><span><a href=\"#Построим-точеченый-график-стоимости-заказов\" data-toc-modified-id=\"Построим-точеченый-график-стоимости-заказов-4.8\"><span class=\"toc-item-num\">4.8&nbsp;&nbsp;</span>Построим точеченый график стоимости заказов</a></span><ul class=\"toc-item\"><li><span><a href=\"#Вывод\" data-toc-modified-id=\"Вывод-4.8.1\"><span class=\"toc-item-num\">4.8.1&nbsp;&nbsp;</span>Вывод</a></span></li></ul></li><li><span><a href=\"#Посчитаем-95-й-и-99-й-перцентиль-стоимости-заказов-пользователей\" data-toc-modified-id=\"Посчитаем-95-й-и-99-й-перцентиль-стоимости-заказов-пользователей-4.9\"><span class=\"toc-item-num\">4.9&nbsp;&nbsp;</span>Посчитаем 95-й и 99-й перцентиль стоимости заказов пользователей</a></span><ul class=\"toc-item\"><li><span><a href=\"#Вывод\" data-toc-modified-id=\"Вывод-4.9.1\"><span class=\"toc-item-num\">4.9.1&nbsp;&nbsp;</span>Вывод</a></span></li></ul></li><li><span><a href=\"#Посчитаем-статистическую-значимость-различий-в-конверсии-между-группами-по-сырым-данным\" data-toc-modified-id=\"Посчитаем-статистическую-значимость-различий-в-конверсии-между-группами-по-сырым-данным-4.10\"><span class=\"toc-item-num\">4.10&nbsp;&nbsp;</span>Посчитаем статистическую значимость различий в конверсии между группами по сырым данным</a></span><ul class=\"toc-item\"><li><span><a href=\"#Вывод\" data-toc-modified-id=\"Вывод-4.10.1\"><span class=\"toc-item-num\">4.10.1&nbsp;&nbsp;</span>Вывод</a></span></li></ul></li><li><span><a href=\"#Посчитаем-статистическую-значимость-различий-в-среднем-чеке-заказа-между-группами-по-сырым-данным\" data-toc-modified-id=\"Посчитаем-статистическую-значимость-различий-в-среднем-чеке-заказа-между-группами-по-сырым-данным-4.11\"><span class=\"toc-item-num\">4.11&nbsp;&nbsp;</span>Посчитаем статистическую значимость различий в среднем чеке заказа между группами по сырым данным</a></span><ul class=\"toc-item\"><li><span><a href=\"#Вывод\" data-toc-modified-id=\"Вывод-4.11.1\"><span class=\"toc-item-num\">4.11.1&nbsp;&nbsp;</span>Вывод</a></span></li></ul></li><li><span><a href=\"#Посчитаем-статистическую-значимость-различий-в-конверсии-между-группами-по-очищенным-данным\" data-toc-modified-id=\"Посчитаем-статистическую-значимость-различий-в-конверсии-между-группами-по-очищенным-данным-4.12\"><span class=\"toc-item-num\">4.12&nbsp;&nbsp;</span>Посчитаем статистическую значимость различий в конверсии между группами по очищенным данным</a></span><ul class=\"toc-item\"><li><span><a href=\"#Вывод\" data-toc-modified-id=\"Вывод-4.12.1\"><span class=\"toc-item-num\">4.12.1&nbsp;&nbsp;</span>Вывод</a></span></li></ul></li><li><span><a href=\"#Посчитаем-статистическую-значимость-различий-по-среднему-чеку-между-группами-по-очищенным-данным\" data-toc-modified-id=\"Посчитаем-статистическую-значимость-различий-по-среднему-чеку-между-группами-по-очищенным-данным-4.13\"><span class=\"toc-item-num\">4.13&nbsp;&nbsp;</span>Посчитаем статистическую значимость различий по среднему чеку между группами по очищенным данным</a></span><ul class=\"toc-item\"><li><span><a href=\"#Вывод\" data-toc-modified-id=\"Вывод-4.13.1\"><span class=\"toc-item-num\">4.13.1&nbsp;&nbsp;</span>Вывод</a></span></li></ul></li><li><span><a href=\"#Вывод\" data-toc-modified-id=\"Вывод-4.14\"><span class=\"toc-item-num\">4.14&nbsp;&nbsp;</span>Вывод</a></span></li></ul></li></ul></div>"
   ]
  },
  {
   "cell_type": "markdown",
   "id": "25d353d3",
   "metadata": {},
   "source": [
    "# Введение\n",
    "\n",
    "В нашем интернет-магазине необходимо поднять выручку. Вместе с отделом маркетинга мы подготовили девять гипотез.\n",
    "Необходимо приоритизировать данные гипотезы, запустить А/В тест, проанализировать результаты и сделать выводы."
   ]
  },
  {
   "cell_type": "markdown",
   "id": "a1cd783b",
   "metadata": {},
   "source": [
    "## Гипотезы:\n",
    "\n",
    "1)  Добавить два новых канала привлечения трафика, что позволит привлекать на 30% больше пользователей; <br/><br/>\n",
    "2)  Запустить собственную службу доставки, что сократит срок доставки заказов; <br/><br/>\n",
    "3)  Добавить блоки рекомендаций товаров на сайт интернет магазина, чтобы повысить конверсию и средний чек заказа; <br/><br/>\n",
    "4)  Изменить структура категорий, что увеличит конверсию, т.к. пользователи быстрее найдут нужный товар; <br/><br/>\n",
    "5)  Изменить цвет фона главной страницы, чтобы увеличить вовлеченность пользователей; <br/><br/>\n",
    "6)  Добавить страницу отзывов клиентов о магазине, что позволит увеличить количество заказов; <br/><br/>\n",
    "7)  Показать на главной странице баннеры с актуальными акциями и распродажами, чтобы увеличить конверсию; <br/><br/>\n",
    "8)  Добавить форму подписки на все основные страницы, чтобы собрать базу клиентов для email-рассылок; <br/><br/>\n",
    "9)  Запустить акцию, дающую скидку на товар в день рождения. <br/><br/>"
   ]
  },
  {
   "cell_type": "markdown",
   "id": "b70aeb29",
   "metadata": {},
   "source": [
    "## Описание данных\n",
    "Файл <b>hypothesis.csv<b/>\n",
    "\n",
    "    Hypothesis — краткое описание гипотезы;\n",
    "    Reach — охват пользователей по 10-балльной шкале;\n",
    "    Impact — влияние на пользователей по 10-балльной шкале;\n",
    "    Confidence — уверенность в гипотезе по 10-балльной шкале;\n",
    "    Efforts — затраты ресурсов на проверку гипотезы по 10-балльной шкале. Чем больше значение Efforts, тем дороже проверка гипотезы.\n",
    "\n",
    "Файл <b>orders.csv<b/>\n",
    "\n",
    "    transactionId — идентификатор заказа;\n",
    "    visitorId — идентификатор пользователя, совершившего заказ;\n",
    "    date — дата, когда был совершён заказ;\n",
    "    revenue — выручка заказа;\n",
    "    group — группа A/B-теста, в которую попал заказ.\n",
    "\n",
    "Файл <b>visitors.csv<b/>\n",
    "\n",
    "    date — дата;\n",
    "    group — группа A/B-теста;\n",
    "    visitors — количество пользователей в указанную дату в указанной группе A/B-теста"
   ]
  },
  {
   "cell_type": "markdown",
   "id": "d6f4cf58",
   "metadata": {},
   "source": [
    "# Загружаем данные и подготовливаем их к анализу"
   ]
  },
  {
   "cell_type": "markdown",
   "id": "2be81d76",
   "metadata": {},
   "source": [
    "Библиотеки:"
   ]
  },
  {
   "cell_type": "code",
   "execution_count": 1,
   "id": "465aa87d",
   "metadata": {},
   "outputs": [],
   "source": [
    "import pandas as pd\n",
    "import numpy as np\n",
    "from datetime import datetime, timedelta\n",
    "from matplotlib import pyplot as plt\n",
    "import datetime as dt\n",
    "import scipy.stats as stats\n",
    "pd.set_option('display.max_colwidth', 150)"
   ]
  },
  {
   "cell_type": "code",
   "execution_count": 2,
   "id": "15ae61d0",
   "metadata": {},
   "outputs": [],
   "source": [
    "try:\n",
    "    \n",
    "    hypothesis = pd.read_csv(\n",
    "        'path1', sep=','\n",
    "    )\n",
    "    \n",
    "    orders = pd.read_csv(\n",
    "        'path1', sep=','\n",
    "    )\n",
    "        \n",
    "    visitors = pd.read_csv(\n",
    "        'path1', sep=','\n",
    "    )\n",
    "    \n",
    "except:\n",
    "    hypothesis = pd.read_csv(\n",
    "        'path2', sep=','\n",
    "    )\n",
    "    orders = pd.read_csv(\n",
    "        'path2', sep=','\n",
    "    )\n",
    "    visitors = pd.read_csv(\n",
    "        'path2', sep=','\n",
    "    )"
   ]
  },
  {
   "cell_type": "markdown",
   "id": "b908220e",
   "metadata": {},
   "source": [
    "Просмотрим информацию по датасетам:"
   ]
  },
  {
   "cell_type": "code",
   "execution_count": 3,
   "id": "603dc532",
   "metadata": {},
   "outputs": [],
   "source": [
    "tables = [hypothesis, orders, visitors]\n",
    "def info(tables):\n",
    "    for table in tables:\n",
    "        display(table.head(3))\n",
    "        print(table.info())            \n",
    "        print('*******************************************************************\\n')"
   ]
  },
  {
   "cell_type": "code",
   "execution_count": 4,
   "id": "e3334fd9",
   "metadata": {},
   "outputs": [
    {
     "data": {
      "text/html": [
       "<div>\n",
       "<style scoped>\n",
       "    .dataframe tbody tr th:only-of-type {\n",
       "        vertical-align: middle;\n",
       "    }\n",
       "\n",
       "    .dataframe tbody tr th {\n",
       "        vertical-align: top;\n",
       "    }\n",
       "\n",
       "    .dataframe thead th {\n",
       "        text-align: right;\n",
       "    }\n",
       "</style>\n",
       "<table border=\"1\" class=\"dataframe\">\n",
       "  <thead>\n",
       "    <tr style=\"text-align: right;\">\n",
       "      <th></th>\n",
       "      <th>Hypothesis</th>\n",
       "      <th>Reach</th>\n",
       "      <th>Impact</th>\n",
       "      <th>Confidence</th>\n",
       "      <th>Efforts</th>\n",
       "    </tr>\n",
       "  </thead>\n",
       "  <tbody>\n",
       "    <tr>\n",
       "      <th>0</th>\n",
       "      <td>Добавить два новых канала привлечения трафика, что позволит привлекать на 30% больше пользователей</td>\n",
       "      <td>3</td>\n",
       "      <td>10</td>\n",
       "      <td>8</td>\n",
       "      <td>6</td>\n",
       "    </tr>\n",
       "    <tr>\n",
       "      <th>1</th>\n",
       "      <td>Запустить собственную службу доставки, что сократит срок доставки заказов</td>\n",
       "      <td>2</td>\n",
       "      <td>5</td>\n",
       "      <td>4</td>\n",
       "      <td>10</td>\n",
       "    </tr>\n",
       "    <tr>\n",
       "      <th>2</th>\n",
       "      <td>Добавить блоки рекомендаций товаров на сайт интернет магазина, чтобы повысить конверсию и средний чек заказа</td>\n",
       "      <td>8</td>\n",
       "      <td>3</td>\n",
       "      <td>7</td>\n",
       "      <td>3</td>\n",
       "    </tr>\n",
       "  </tbody>\n",
       "</table>\n",
       "</div>"
      ],
      "text/plain": [
       "                                                                                                     Hypothesis  \\\n",
       "0            Добавить два новых канала привлечения трафика, что позволит привлекать на 30% больше пользователей   \n",
       "1                                     Запустить собственную службу доставки, что сократит срок доставки заказов   \n",
       "2  Добавить блоки рекомендаций товаров на сайт интернет магазина, чтобы повысить конверсию и средний чек заказа   \n",
       "\n",
       "   Reach  Impact  Confidence  Efforts  \n",
       "0      3      10           8        6  \n",
       "1      2       5           4       10  \n",
       "2      8       3           7        3  "
      ]
     },
     "metadata": {},
     "output_type": "display_data"
    },
    {
     "name": "stdout",
     "output_type": "stream",
     "text": [
      "<class 'pandas.core.frame.DataFrame'>\n",
      "RangeIndex: 9 entries, 0 to 8\n",
      "Data columns (total 5 columns):\n",
      " #   Column      Non-Null Count  Dtype \n",
      "---  ------      --------------  ----- \n",
      " 0   Hypothesis  9 non-null      object\n",
      " 1   Reach       9 non-null      int64 \n",
      " 2   Impact      9 non-null      int64 \n",
      " 3   Confidence  9 non-null      int64 \n",
      " 4   Efforts     9 non-null      int64 \n",
      "dtypes: int64(4), object(1)\n",
      "memory usage: 488.0+ bytes\n",
      "None\n",
      "*******************************************************************\n",
      "\n"
     ]
    },
    {
     "data": {
      "text/html": [
       "<div>\n",
       "<style scoped>\n",
       "    .dataframe tbody tr th:only-of-type {\n",
       "        vertical-align: middle;\n",
       "    }\n",
       "\n",
       "    .dataframe tbody tr th {\n",
       "        vertical-align: top;\n",
       "    }\n",
       "\n",
       "    .dataframe thead th {\n",
       "        text-align: right;\n",
       "    }\n",
       "</style>\n",
       "<table border=\"1\" class=\"dataframe\">\n",
       "  <thead>\n",
       "    <tr style=\"text-align: right;\">\n",
       "      <th></th>\n",
       "      <th>transactionId</th>\n",
       "      <th>visitorId</th>\n",
       "      <th>date</th>\n",
       "      <th>revenue</th>\n",
       "      <th>group</th>\n",
       "    </tr>\n",
       "  </thead>\n",
       "  <tbody>\n",
       "    <tr>\n",
       "      <th>0</th>\n",
       "      <td>3667963787</td>\n",
       "      <td>3312258926</td>\n",
       "      <td>2019-08-15</td>\n",
       "      <td>1650</td>\n",
       "      <td>B</td>\n",
       "    </tr>\n",
       "    <tr>\n",
       "      <th>1</th>\n",
       "      <td>2804400009</td>\n",
       "      <td>3642806036</td>\n",
       "      <td>2019-08-15</td>\n",
       "      <td>730</td>\n",
       "      <td>B</td>\n",
       "    </tr>\n",
       "    <tr>\n",
       "      <th>2</th>\n",
       "      <td>2961555356</td>\n",
       "      <td>4069496402</td>\n",
       "      <td>2019-08-15</td>\n",
       "      <td>400</td>\n",
       "      <td>A</td>\n",
       "    </tr>\n",
       "  </tbody>\n",
       "</table>\n",
       "</div>"
      ],
      "text/plain": [
       "   transactionId   visitorId        date  revenue group\n",
       "0     3667963787  3312258926  2019-08-15     1650     B\n",
       "1     2804400009  3642806036  2019-08-15      730     B\n",
       "2     2961555356  4069496402  2019-08-15      400     A"
      ]
     },
     "metadata": {},
     "output_type": "display_data"
    },
    {
     "name": "stdout",
     "output_type": "stream",
     "text": [
      "<class 'pandas.core.frame.DataFrame'>\n",
      "RangeIndex: 1197 entries, 0 to 1196\n",
      "Data columns (total 5 columns):\n",
      " #   Column         Non-Null Count  Dtype \n",
      "---  ------         --------------  ----- \n",
      " 0   transactionId  1197 non-null   int64 \n",
      " 1   visitorId      1197 non-null   int64 \n",
      " 2   date           1197 non-null   object\n",
      " 3   revenue        1197 non-null   int64 \n",
      " 4   group          1197 non-null   object\n",
      "dtypes: int64(3), object(2)\n",
      "memory usage: 46.9+ KB\n",
      "None\n",
      "*******************************************************************\n",
      "\n"
     ]
    },
    {
     "data": {
      "text/html": [
       "<div>\n",
       "<style scoped>\n",
       "    .dataframe tbody tr th:only-of-type {\n",
       "        vertical-align: middle;\n",
       "    }\n",
       "\n",
       "    .dataframe tbody tr th {\n",
       "        vertical-align: top;\n",
       "    }\n",
       "\n",
       "    .dataframe thead th {\n",
       "        text-align: right;\n",
       "    }\n",
       "</style>\n",
       "<table border=\"1\" class=\"dataframe\">\n",
       "  <thead>\n",
       "    <tr style=\"text-align: right;\">\n",
       "      <th></th>\n",
       "      <th>date</th>\n",
       "      <th>group</th>\n",
       "      <th>visitors</th>\n",
       "    </tr>\n",
       "  </thead>\n",
       "  <tbody>\n",
       "    <tr>\n",
       "      <th>0</th>\n",
       "      <td>2019-08-01</td>\n",
       "      <td>A</td>\n",
       "      <td>719</td>\n",
       "    </tr>\n",
       "    <tr>\n",
       "      <th>1</th>\n",
       "      <td>2019-08-02</td>\n",
       "      <td>A</td>\n",
       "      <td>619</td>\n",
       "    </tr>\n",
       "    <tr>\n",
       "      <th>2</th>\n",
       "      <td>2019-08-03</td>\n",
       "      <td>A</td>\n",
       "      <td>507</td>\n",
       "    </tr>\n",
       "  </tbody>\n",
       "</table>\n",
       "</div>"
      ],
      "text/plain": [
       "         date group  visitors\n",
       "0  2019-08-01     A       719\n",
       "1  2019-08-02     A       619\n",
       "2  2019-08-03     A       507"
      ]
     },
     "metadata": {},
     "output_type": "display_data"
    },
    {
     "name": "stdout",
     "output_type": "stream",
     "text": [
      "<class 'pandas.core.frame.DataFrame'>\n",
      "RangeIndex: 62 entries, 0 to 61\n",
      "Data columns (total 3 columns):\n",
      " #   Column    Non-Null Count  Dtype \n",
      "---  ------    --------------  ----- \n",
      " 0   date      62 non-null     object\n",
      " 1   group     62 non-null     object\n",
      " 2   visitors  62 non-null     int64 \n",
      "dtypes: int64(1), object(2)\n",
      "memory usage: 1.6+ KB\n",
      "None\n",
      "*******************************************************************\n",
      "\n"
     ]
    }
   ],
   "source": [
    "info(tables)"
   ]
  },
  {
   "cell_type": "markdown",
   "id": "44ad37c1",
   "metadata": {},
   "source": [
    "Приведём наши таблицу к нормальному виду для анализа:"
   ]
  },
  {
   "cell_type": "code",
   "execution_count": 5,
   "id": "0bf23eb1",
   "metadata": {},
   "outputs": [],
   "source": [
    "#ф-ия для приведения табл к норм виду\n",
    "def normal_table_for_analysis(table, list_datetime_format, list_columns, list_columns_change):\n",
    "    for i in range(len(table.columns)): #Перебираем столбцы таблицы и меня формат по назв. столбцов\n",
    "        try:\n",
    "            for k in range(len(list_datetime_format)):\n",
    "                if list_datetime_format[k] in table.columns[i]:\n",
    "                    table[table.columns[i]] = pd.to_datetime(table[table.columns[i]])\n",
    "        except:\n",
    "            print('Ошибка')\n",
    "            \n",
    "    # переимен. столбцы \n",
    "    for k in range(len(list_columns)):        \n",
    "        table = table.rename(columns = {list_columns[k]:list_columns_change[k]})\n",
    "\n",
    "    \n",
    "    # удаляю дуликаты если есть\n",
    "    if 0<= table.duplicated().sum()/table.duplicated().count()  <= 0.1:\n",
    "        print('Кол-во дубликатов равно {}'.format(table.duplicated().sum()))\n",
    "        table = table.drop_duplicates().reset_index(drop=True)\n",
    "    else:\n",
    "        print('Дубликатов больше 10% от общего кол-ва данных')\n",
    "        \n",
    "    return table"
   ]
  },
  {
   "cell_type": "markdown",
   "id": "c380cb78",
   "metadata": {},
   "source": [
    "Зададим названия столбцов, в которых нужно поменять формат на datetime, а так же названия столбцов, которые нужно переименновать:"
   ]
  },
  {
   "cell_type": "code",
   "execution_count": 6,
   "id": "fd2794b4",
   "metadata": {},
   "outputs": [
    {
     "name": "stdout",
     "output_type": "stream",
     "text": [
      "Кол-во дубликатов равно 0\n",
      "Кол-во дубликатов равно 0\n",
      "Кол-во дубликатов равно 0\n"
     ]
    }
   ],
   "source": [
    "list_datetime_format = ['date']\n",
    "list_columns = ['Hypothesis', 'Reach', 'Impact', 'Confidence', 'Efforts']\n",
    "list_columns_change = ['hypothesis', 'reach', 'impact', 'confidence', 'efforts']\n",
    "\n",
    "hypothesis = normal_table_for_analysis(hypothesis, list_datetime_format, list_columns, list_columns_change)\n",
    "orders = normal_table_for_analysis(orders, list_datetime_format, list_columns, list_columns_change)\n",
    "visitors = normal_table_for_analysis(visitors, list_datetime_format, list_columns, list_columns_change)"
   ]
  },
  {
   "cell_type": "markdown",
   "id": "d9479ded",
   "metadata": {},
   "source": [
    "Проверяем информацию о наших таблицах:"
   ]
  },
  {
   "cell_type": "code",
   "execution_count": 7,
   "id": "ec057074",
   "metadata": {},
   "outputs": [
    {
     "data": {
      "text/html": [
       "<div>\n",
       "<style scoped>\n",
       "    .dataframe tbody tr th:only-of-type {\n",
       "        vertical-align: middle;\n",
       "    }\n",
       "\n",
       "    .dataframe tbody tr th {\n",
       "        vertical-align: top;\n",
       "    }\n",
       "\n",
       "    .dataframe thead th {\n",
       "        text-align: right;\n",
       "    }\n",
       "</style>\n",
       "<table border=\"1\" class=\"dataframe\">\n",
       "  <thead>\n",
       "    <tr style=\"text-align: right;\">\n",
       "      <th></th>\n",
       "      <th>hypothesis</th>\n",
       "      <th>reach</th>\n",
       "      <th>impact</th>\n",
       "      <th>confidence</th>\n",
       "      <th>efforts</th>\n",
       "    </tr>\n",
       "  </thead>\n",
       "  <tbody>\n",
       "    <tr>\n",
       "      <th>0</th>\n",
       "      <td>Добавить два новых канала привлечения трафика, что позволит привлекать на 30% больше пользователей</td>\n",
       "      <td>3</td>\n",
       "      <td>10</td>\n",
       "      <td>8</td>\n",
       "      <td>6</td>\n",
       "    </tr>\n",
       "    <tr>\n",
       "      <th>1</th>\n",
       "      <td>Запустить собственную службу доставки, что сократит срок доставки заказов</td>\n",
       "      <td>2</td>\n",
       "      <td>5</td>\n",
       "      <td>4</td>\n",
       "      <td>10</td>\n",
       "    </tr>\n",
       "    <tr>\n",
       "      <th>2</th>\n",
       "      <td>Добавить блоки рекомендаций товаров на сайт интернет магазина, чтобы повысить конверсию и средний чек заказа</td>\n",
       "      <td>8</td>\n",
       "      <td>3</td>\n",
       "      <td>7</td>\n",
       "      <td>3</td>\n",
       "    </tr>\n",
       "  </tbody>\n",
       "</table>\n",
       "</div>"
      ],
      "text/plain": [
       "                                                                                                     hypothesis  \\\n",
       "0            Добавить два новых канала привлечения трафика, что позволит привлекать на 30% больше пользователей   \n",
       "1                                     Запустить собственную службу доставки, что сократит срок доставки заказов   \n",
       "2  Добавить блоки рекомендаций товаров на сайт интернет магазина, чтобы повысить конверсию и средний чек заказа   \n",
       "\n",
       "   reach  impact  confidence  efforts  \n",
       "0      3      10           8        6  \n",
       "1      2       5           4       10  \n",
       "2      8       3           7        3  "
      ]
     },
     "metadata": {},
     "output_type": "display_data"
    },
    {
     "name": "stdout",
     "output_type": "stream",
     "text": [
      "<class 'pandas.core.frame.DataFrame'>\n",
      "RangeIndex: 9 entries, 0 to 8\n",
      "Data columns (total 5 columns):\n",
      " #   Column      Non-Null Count  Dtype \n",
      "---  ------      --------------  ----- \n",
      " 0   hypothesis  9 non-null      object\n",
      " 1   reach       9 non-null      int64 \n",
      " 2   impact      9 non-null      int64 \n",
      " 3   confidence  9 non-null      int64 \n",
      " 4   efforts     9 non-null      int64 \n",
      "dtypes: int64(4), object(1)\n",
      "memory usage: 488.0+ bytes\n",
      "None\n",
      "*******************************************************************\n",
      "\n"
     ]
    },
    {
     "data": {
      "text/html": [
       "<div>\n",
       "<style scoped>\n",
       "    .dataframe tbody tr th:only-of-type {\n",
       "        vertical-align: middle;\n",
       "    }\n",
       "\n",
       "    .dataframe tbody tr th {\n",
       "        vertical-align: top;\n",
       "    }\n",
       "\n",
       "    .dataframe thead th {\n",
       "        text-align: right;\n",
       "    }\n",
       "</style>\n",
       "<table border=\"1\" class=\"dataframe\">\n",
       "  <thead>\n",
       "    <tr style=\"text-align: right;\">\n",
       "      <th></th>\n",
       "      <th>transactionId</th>\n",
       "      <th>visitorId</th>\n",
       "      <th>date</th>\n",
       "      <th>revenue</th>\n",
       "      <th>group</th>\n",
       "    </tr>\n",
       "  </thead>\n",
       "  <tbody>\n",
       "    <tr>\n",
       "      <th>0</th>\n",
       "      <td>3667963787</td>\n",
       "      <td>3312258926</td>\n",
       "      <td>2019-08-15</td>\n",
       "      <td>1650</td>\n",
       "      <td>B</td>\n",
       "    </tr>\n",
       "    <tr>\n",
       "      <th>1</th>\n",
       "      <td>2804400009</td>\n",
       "      <td>3642806036</td>\n",
       "      <td>2019-08-15</td>\n",
       "      <td>730</td>\n",
       "      <td>B</td>\n",
       "    </tr>\n",
       "    <tr>\n",
       "      <th>2</th>\n",
       "      <td>2961555356</td>\n",
       "      <td>4069496402</td>\n",
       "      <td>2019-08-15</td>\n",
       "      <td>400</td>\n",
       "      <td>A</td>\n",
       "    </tr>\n",
       "  </tbody>\n",
       "</table>\n",
       "</div>"
      ],
      "text/plain": [
       "   transactionId   visitorId       date  revenue group\n",
       "0     3667963787  3312258926 2019-08-15     1650     B\n",
       "1     2804400009  3642806036 2019-08-15      730     B\n",
       "2     2961555356  4069496402 2019-08-15      400     A"
      ]
     },
     "metadata": {},
     "output_type": "display_data"
    },
    {
     "name": "stdout",
     "output_type": "stream",
     "text": [
      "<class 'pandas.core.frame.DataFrame'>\n",
      "RangeIndex: 1197 entries, 0 to 1196\n",
      "Data columns (total 5 columns):\n",
      " #   Column         Non-Null Count  Dtype         \n",
      "---  ------         --------------  -----         \n",
      " 0   transactionId  1197 non-null   int64         \n",
      " 1   visitorId      1197 non-null   int64         \n",
      " 2   date           1197 non-null   datetime64[ns]\n",
      " 3   revenue        1197 non-null   int64         \n",
      " 4   group          1197 non-null   object        \n",
      "dtypes: datetime64[ns](1), int64(3), object(1)\n",
      "memory usage: 46.9+ KB\n",
      "None\n",
      "*******************************************************************\n",
      "\n"
     ]
    },
    {
     "data": {
      "text/html": [
       "<div>\n",
       "<style scoped>\n",
       "    .dataframe tbody tr th:only-of-type {\n",
       "        vertical-align: middle;\n",
       "    }\n",
       "\n",
       "    .dataframe tbody tr th {\n",
       "        vertical-align: top;\n",
       "    }\n",
       "\n",
       "    .dataframe thead th {\n",
       "        text-align: right;\n",
       "    }\n",
       "</style>\n",
       "<table border=\"1\" class=\"dataframe\">\n",
       "  <thead>\n",
       "    <tr style=\"text-align: right;\">\n",
       "      <th></th>\n",
       "      <th>date</th>\n",
       "      <th>group</th>\n",
       "      <th>visitors</th>\n",
       "    </tr>\n",
       "  </thead>\n",
       "  <tbody>\n",
       "    <tr>\n",
       "      <th>0</th>\n",
       "      <td>2019-08-01</td>\n",
       "      <td>A</td>\n",
       "      <td>719</td>\n",
       "    </tr>\n",
       "    <tr>\n",
       "      <th>1</th>\n",
       "      <td>2019-08-02</td>\n",
       "      <td>A</td>\n",
       "      <td>619</td>\n",
       "    </tr>\n",
       "    <tr>\n",
       "      <th>2</th>\n",
       "      <td>2019-08-03</td>\n",
       "      <td>A</td>\n",
       "      <td>507</td>\n",
       "    </tr>\n",
       "  </tbody>\n",
       "</table>\n",
       "</div>"
      ],
      "text/plain": [
       "        date group  visitors\n",
       "0 2019-08-01     A       719\n",
       "1 2019-08-02     A       619\n",
       "2 2019-08-03     A       507"
      ]
     },
     "metadata": {},
     "output_type": "display_data"
    },
    {
     "name": "stdout",
     "output_type": "stream",
     "text": [
      "<class 'pandas.core.frame.DataFrame'>\n",
      "RangeIndex: 62 entries, 0 to 61\n",
      "Data columns (total 3 columns):\n",
      " #   Column    Non-Null Count  Dtype         \n",
      "---  ------    --------------  -----         \n",
      " 0   date      62 non-null     datetime64[ns]\n",
      " 1   group     62 non-null     object        \n",
      " 2   visitors  62 non-null     int64         \n",
      "dtypes: datetime64[ns](1), int64(1), object(1)\n",
      "memory usage: 1.6+ KB\n",
      "None\n",
      "*******************************************************************\n",
      "\n"
     ]
    }
   ],
   "source": [
    "tables = [hypothesis, orders, visitors]\n",
    "info(tables)"
   ]
  },
  {
   "cell_type": "code",
   "execution_count": 8,
   "id": "d96845b3",
   "metadata": {},
   "outputs": [
    {
     "data": {
      "text/html": [
       "<div>\n",
       "<style scoped>\n",
       "    .dataframe tbody tr th:only-of-type {\n",
       "        vertical-align: middle;\n",
       "    }\n",
       "\n",
       "    .dataframe tbody tr th {\n",
       "        vertical-align: top;\n",
       "    }\n",
       "\n",
       "    .dataframe thead th {\n",
       "        text-align: right;\n",
       "    }\n",
       "</style>\n",
       "<table border=\"1\" class=\"dataframe\">\n",
       "  <thead>\n",
       "    <tr style=\"text-align: right;\">\n",
       "      <th>group</th>\n",
       "      <th>A</th>\n",
       "      <th>B</th>\n",
       "    </tr>\n",
       "    <tr>\n",
       "      <th>visitorId</th>\n",
       "      <th></th>\n",
       "      <th></th>\n",
       "    </tr>\n",
       "  </thead>\n",
       "  <tbody>\n",
       "    <tr>\n",
       "      <th>5114589</th>\n",
       "      <td>NaN</td>\n",
       "      <td>570.0</td>\n",
       "    </tr>\n",
       "    <tr>\n",
       "      <th>6958315</th>\n",
       "      <td>NaN</td>\n",
       "      <td>1490.0</td>\n",
       "    </tr>\n",
       "    <tr>\n",
       "      <th>8300375</th>\n",
       "      <td>1790.0</td>\n",
       "      <td>10510.0</td>\n",
       "    </tr>\n",
       "    <tr>\n",
       "      <th>11685486</th>\n",
       "      <td>6201.0</td>\n",
       "      <td>NaN</td>\n",
       "    </tr>\n",
       "    <tr>\n",
       "      <th>39475350</th>\n",
       "      <td>NaN</td>\n",
       "      <td>3990.0</td>\n",
       "    </tr>\n",
       "  </tbody>\n",
       "</table>\n",
       "</div>"
      ],
      "text/plain": [
       "group           A        B\n",
       "visitorId                 \n",
       "5114589       NaN    570.0\n",
       "6958315       NaN   1490.0\n",
       "8300375    1790.0  10510.0\n",
       "11685486   6201.0      NaN\n",
       "39475350      NaN   3990.0"
      ]
     },
     "execution_count": 8,
     "metadata": {},
     "output_type": "execute_result"
    }
   ],
   "source": [
    "orders.pivot_table(index='visitorId', columns='group', values='revenue').head()"
   ]
  },
  {
   "cell_type": "code",
   "execution_count": 9,
   "id": "3439e054",
   "metadata": {
    "scrolled": false
   },
   "outputs": [
    {
     "name": "stdout",
     "output_type": "stream",
     "text": [
      "Кол-во неявных дубликатов равно 15.12 %\n"
     ]
    }
   ],
   "source": [
    "dupl = orders.pivot_table(index='visitorId', columns='group', values='revenue') \n",
    "double_visitors=[]\n",
    "for i in dupl.index:\n",
    "    if dupl.loc[i, 'A'] > 0 and dupl.loc[i, 'B'] > 0:\n",
    "        double_visitors.append(i)\n",
    "print('Кол-во неявных дубликатов равно', \n",
    "      round(100*(1-len(orders.query('visitorId != @double_visitors'))/len(orders)),2),\n",
    "      '%')\n",
    "\n",
    "orders = orders.query('visitorId != @double_visitors')"
   ]
  },
  {
   "cell_type": "markdown",
   "id": "625dda9f",
   "metadata": {},
   "source": [
    "## Вывод:\n",
    "Данные в таблицах подготовленны следующим образом:\n",
    "* Удалены дубликаты;\n",
    "* Преобразованы форматы столбцов.\n",
    "* Пропусков в таблицах невыявлено."
   ]
  },
  {
   "cell_type": "markdown",
   "id": "084e6e03",
   "metadata": {},
   "source": [
    "# Приоритизация гипотез"
   ]
  },
  {
   "cell_type": "markdown",
   "id": "5409a114",
   "metadata": {},
   "source": [
    "Приоритизация позволяет оценить задачи более детально, т.е. расположить гипотезы в порядке важности."
   ]
  },
  {
   "cell_type": "markdown",
   "id": "4385b6e6",
   "metadata": {},
   "source": [
    "## Посчитаем ICE для гипотез"
   ]
  },
  {
   "cell_type": "markdown",
   "id": "19b2e397",
   "metadata": {},
   "source": [
    "> ICE считается у нас следующим образом:\n",
    "\n",
    "> <b>ICE = влияние на пользователей * уверенность в гипотезе / затраты ресурсов на проверку гипотезы<b/>"
   ]
  },
  {
   "cell_type": "markdown",
   "id": "b23ab681",
   "metadata": {},
   "source": [
    "Где:\n",
    "*    `Impact` — влияние на пользователей по 10-балльной шкале;\n",
    "*    `Confidence` — уверенность в гипотезе по 10-балльной шкале;\n",
    "*    `Efforts` — затраты ресурсов на проверку гипотезы по 10-балльной шкале."
   ]
  },
  {
   "cell_type": "markdown",
   "id": "583f9ef9",
   "metadata": {},
   "source": [
    "Добавим полученные значения ICE к таблице hypothesis. Новый столбец назовём `ICE`:"
   ]
  },
  {
   "cell_type": "code",
   "execution_count": 10,
   "id": "ec5546ee",
   "metadata": {},
   "outputs": [],
   "source": [
    "hypothesis['ICE'] = round(\n",
    "                hypothesis['impact']*\n",
    "                hypothesis['confidence']/\n",
    "                hypothesis['efforts'],\n",
    "    2\n",
    "    )"
   ]
  },
  {
   "cell_type": "markdown",
   "id": "dbcc9c2e",
   "metadata": {},
   "source": [
    "Выведим таблицу:"
   ]
  },
  {
   "cell_type": "code",
   "execution_count": 11,
   "id": "8730c68a",
   "metadata": {},
   "outputs": [
    {
     "data": {
      "text/html": [
       "<div>\n",
       "<style scoped>\n",
       "    .dataframe tbody tr th:only-of-type {\n",
       "        vertical-align: middle;\n",
       "    }\n",
       "\n",
       "    .dataframe tbody tr th {\n",
       "        vertical-align: top;\n",
       "    }\n",
       "\n",
       "    .dataframe thead th {\n",
       "        text-align: right;\n",
       "    }\n",
       "</style>\n",
       "<table border=\"1\" class=\"dataframe\">\n",
       "  <thead>\n",
       "    <tr style=\"text-align: right;\">\n",
       "      <th></th>\n",
       "      <th>hypothesis</th>\n",
       "      <th>reach</th>\n",
       "      <th>impact</th>\n",
       "      <th>confidence</th>\n",
       "      <th>efforts</th>\n",
       "      <th>ICE</th>\n",
       "    </tr>\n",
       "  </thead>\n",
       "  <tbody>\n",
       "    <tr>\n",
       "      <th>8</th>\n",
       "      <td>Запустить акцию, дающую скидку на товар в день рождения</td>\n",
       "      <td>1</td>\n",
       "      <td>9</td>\n",
       "      <td>9</td>\n",
       "      <td>5</td>\n",
       "      <td>16.20</td>\n",
       "    </tr>\n",
       "    <tr>\n",
       "      <th>0</th>\n",
       "      <td>Добавить два новых канала привлечения трафика, что позволит привлекать на 30% больше пользователей</td>\n",
       "      <td>3</td>\n",
       "      <td>10</td>\n",
       "      <td>8</td>\n",
       "      <td>6</td>\n",
       "      <td>13.33</td>\n",
       "    </tr>\n",
       "    <tr>\n",
       "      <th>7</th>\n",
       "      <td>Добавить форму подписки на все основные страницы, чтобы собрать базу клиентов для email-рассылок</td>\n",
       "      <td>10</td>\n",
       "      <td>7</td>\n",
       "      <td>8</td>\n",
       "      <td>5</td>\n",
       "      <td>11.20</td>\n",
       "    </tr>\n",
       "    <tr>\n",
       "      <th>6</th>\n",
       "      <td>Показать на главной странице баннеры с актуальными акциями и распродажами, чтобы увеличить конверсию</td>\n",
       "      <td>5</td>\n",
       "      <td>3</td>\n",
       "      <td>8</td>\n",
       "      <td>3</td>\n",
       "      <td>8.00</td>\n",
       "    </tr>\n",
       "    <tr>\n",
       "      <th>2</th>\n",
       "      <td>Добавить блоки рекомендаций товаров на сайт интернет магазина, чтобы повысить конверсию и средний чек заказа</td>\n",
       "      <td>8</td>\n",
       "      <td>3</td>\n",
       "      <td>7</td>\n",
       "      <td>3</td>\n",
       "      <td>7.00</td>\n",
       "    </tr>\n",
       "    <tr>\n",
       "      <th>1</th>\n",
       "      <td>Запустить собственную службу доставки, что сократит срок доставки заказов</td>\n",
       "      <td>2</td>\n",
       "      <td>5</td>\n",
       "      <td>4</td>\n",
       "      <td>10</td>\n",
       "      <td>2.00</td>\n",
       "    </tr>\n",
       "    <tr>\n",
       "      <th>5</th>\n",
       "      <td>Добавить страницу отзывов клиентов о магазине, что позволит увеличить количество заказов</td>\n",
       "      <td>3</td>\n",
       "      <td>2</td>\n",
       "      <td>2</td>\n",
       "      <td>3</td>\n",
       "      <td>1.33</td>\n",
       "    </tr>\n",
       "    <tr>\n",
       "      <th>3</th>\n",
       "      <td>Изменить структура категорий, что увеличит конверсию, т.к. пользователи быстрее найдут нужный товар</td>\n",
       "      <td>8</td>\n",
       "      <td>3</td>\n",
       "      <td>3</td>\n",
       "      <td>8</td>\n",
       "      <td>1.12</td>\n",
       "    </tr>\n",
       "    <tr>\n",
       "      <th>4</th>\n",
       "      <td>Изменить цвет фона главной страницы, чтобы увеличить вовлеченность пользователей</td>\n",
       "      <td>3</td>\n",
       "      <td>1</td>\n",
       "      <td>1</td>\n",
       "      <td>1</td>\n",
       "      <td>1.00</td>\n",
       "    </tr>\n",
       "  </tbody>\n",
       "</table>\n",
       "</div>"
      ],
      "text/plain": [
       "                                                                                                     hypothesis  \\\n",
       "8                                                       Запустить акцию, дающую скидку на товар в день рождения   \n",
       "0            Добавить два новых канала привлечения трафика, что позволит привлекать на 30% больше пользователей   \n",
       "7              Добавить форму подписки на все основные страницы, чтобы собрать базу клиентов для email-рассылок   \n",
       "6          Показать на главной странице баннеры с актуальными акциями и распродажами, чтобы увеличить конверсию   \n",
       "2  Добавить блоки рекомендаций товаров на сайт интернет магазина, чтобы повысить конверсию и средний чек заказа   \n",
       "1                                     Запустить собственную службу доставки, что сократит срок доставки заказов   \n",
       "5                      Добавить страницу отзывов клиентов о магазине, что позволит увеличить количество заказов   \n",
       "3           Изменить структура категорий, что увеличит конверсию, т.к. пользователи быстрее найдут нужный товар   \n",
       "4                              Изменить цвет фона главной страницы, чтобы увеличить вовлеченность пользователей   \n",
       "\n",
       "   reach  impact  confidence  efforts    ICE  \n",
       "8      1       9           9        5  16.20  \n",
       "0      3      10           8        6  13.33  \n",
       "7     10       7           8        5  11.20  \n",
       "6      5       3           8        3   8.00  \n",
       "2      8       3           7        3   7.00  \n",
       "1      2       5           4       10   2.00  \n",
       "5      3       2           2        3   1.33  \n",
       "3      8       3           3        8   1.12  \n",
       "4      3       1           1        1   1.00  "
      ]
     },
     "execution_count": 11,
     "metadata": {},
     "output_type": "execute_result"
    }
   ],
   "source": [
    "hypothesis.head(9).sort_values(by='ICE', ascending=False)"
   ]
  },
  {
   "cell_type": "markdown",
   "id": "ebc7b2c6",
   "metadata": {},
   "source": [
    "## Посчитаем RICE для гипотез"
   ]
  },
  {
   "cell_type": "markdown",
   "id": "f3bbb085",
   "metadata": {},
   "source": [
    "> RICE считается у нас следующим образом:\n",
    "\n",
    "> <b>RICE = охват пользователей * влияние на пользователей * уверенность в гипотезе / затраты ресурсов на проверку гипотезы<b/>"
   ]
  },
  {
   "cell_type": "markdown",
   "id": "ab1907ca",
   "metadata": {},
   "source": [
    "Где:\n",
    "*    `Reach` — охват пользователей по 10-балльной шкале;\n",
    "*    `Impact` — влияние на пользователей по 10-балльной шкале;\n",
    "*    `Confidence` — уверенность в гипотезе по 10-балльной шкале;\n",
    "*    `Efforts` — затраты ресурсов на проверку гипотезы по 10-балльной шкале."
   ]
  },
  {
   "cell_type": "markdown",
   "id": "6eb8ff62",
   "metadata": {},
   "source": [
    "Добавим полученные значения RICE к таблице hypothesis. Новый столбец назовём `RICE`:"
   ]
  },
  {
   "cell_type": "code",
   "execution_count": 12,
   "id": "7e398c9a",
   "metadata": {},
   "outputs": [],
   "source": [
    "hypothesis['RICE'] = round(\n",
    "                hypothesis['reach']*\n",
    "                hypothesis['impact']*\n",
    "                hypothesis['confidence']/hypothesis['efforts'],\n",
    "    2\n",
    "                     )"
   ]
  },
  {
   "cell_type": "markdown",
   "id": "782766de",
   "metadata": {},
   "source": [
    "Выведим таблицу:"
   ]
  },
  {
   "cell_type": "code",
   "execution_count": 13,
   "id": "8e79d620",
   "metadata": {},
   "outputs": [
    {
     "data": {
      "text/html": [
       "<div>\n",
       "<style scoped>\n",
       "    .dataframe tbody tr th:only-of-type {\n",
       "        vertical-align: middle;\n",
       "    }\n",
       "\n",
       "    .dataframe tbody tr th {\n",
       "        vertical-align: top;\n",
       "    }\n",
       "\n",
       "    .dataframe thead th {\n",
       "        text-align: right;\n",
       "    }\n",
       "</style>\n",
       "<table border=\"1\" class=\"dataframe\">\n",
       "  <thead>\n",
       "    <tr style=\"text-align: right;\">\n",
       "      <th></th>\n",
       "      <th>hypothesis</th>\n",
       "      <th>reach</th>\n",
       "      <th>impact</th>\n",
       "      <th>confidence</th>\n",
       "      <th>efforts</th>\n",
       "      <th>ICE</th>\n",
       "      <th>RICE</th>\n",
       "    </tr>\n",
       "  </thead>\n",
       "  <tbody>\n",
       "    <tr>\n",
       "      <th>7</th>\n",
       "      <td>Добавить форму подписки на все основные страницы, чтобы собрать базу клиентов для email-рассылок</td>\n",
       "      <td>10</td>\n",
       "      <td>7</td>\n",
       "      <td>8</td>\n",
       "      <td>5</td>\n",
       "      <td>11.20</td>\n",
       "      <td>112.0</td>\n",
       "    </tr>\n",
       "    <tr>\n",
       "      <th>2</th>\n",
       "      <td>Добавить блоки рекомендаций товаров на сайт интернет магазина, чтобы повысить конверсию и средний чек заказа</td>\n",
       "      <td>8</td>\n",
       "      <td>3</td>\n",
       "      <td>7</td>\n",
       "      <td>3</td>\n",
       "      <td>7.00</td>\n",
       "      <td>56.0</td>\n",
       "    </tr>\n",
       "    <tr>\n",
       "      <th>0</th>\n",
       "      <td>Добавить два новых канала привлечения трафика, что позволит привлекать на 30% больше пользователей</td>\n",
       "      <td>3</td>\n",
       "      <td>10</td>\n",
       "      <td>8</td>\n",
       "      <td>6</td>\n",
       "      <td>13.33</td>\n",
       "      <td>40.0</td>\n",
       "    </tr>\n",
       "    <tr>\n",
       "      <th>6</th>\n",
       "      <td>Показать на главной странице баннеры с актуальными акциями и распродажами, чтобы увеличить конверсию</td>\n",
       "      <td>5</td>\n",
       "      <td>3</td>\n",
       "      <td>8</td>\n",
       "      <td>3</td>\n",
       "      <td>8.00</td>\n",
       "      <td>40.0</td>\n",
       "    </tr>\n",
       "    <tr>\n",
       "      <th>8</th>\n",
       "      <td>Запустить акцию, дающую скидку на товар в день рождения</td>\n",
       "      <td>1</td>\n",
       "      <td>9</td>\n",
       "      <td>9</td>\n",
       "      <td>5</td>\n",
       "      <td>16.20</td>\n",
       "      <td>16.2</td>\n",
       "    </tr>\n",
       "    <tr>\n",
       "      <th>3</th>\n",
       "      <td>Изменить структура категорий, что увеличит конверсию, т.к. пользователи быстрее найдут нужный товар</td>\n",
       "      <td>8</td>\n",
       "      <td>3</td>\n",
       "      <td>3</td>\n",
       "      <td>8</td>\n",
       "      <td>1.12</td>\n",
       "      <td>9.0</td>\n",
       "    </tr>\n",
       "    <tr>\n",
       "      <th>1</th>\n",
       "      <td>Запустить собственную службу доставки, что сократит срок доставки заказов</td>\n",
       "      <td>2</td>\n",
       "      <td>5</td>\n",
       "      <td>4</td>\n",
       "      <td>10</td>\n",
       "      <td>2.00</td>\n",
       "      <td>4.0</td>\n",
       "    </tr>\n",
       "    <tr>\n",
       "      <th>5</th>\n",
       "      <td>Добавить страницу отзывов клиентов о магазине, что позволит увеличить количество заказов</td>\n",
       "      <td>3</td>\n",
       "      <td>2</td>\n",
       "      <td>2</td>\n",
       "      <td>3</td>\n",
       "      <td>1.33</td>\n",
       "      <td>4.0</td>\n",
       "    </tr>\n",
       "    <tr>\n",
       "      <th>4</th>\n",
       "      <td>Изменить цвет фона главной страницы, чтобы увеличить вовлеченность пользователей</td>\n",
       "      <td>3</td>\n",
       "      <td>1</td>\n",
       "      <td>1</td>\n",
       "      <td>1</td>\n",
       "      <td>1.00</td>\n",
       "      <td>3.0</td>\n",
       "    </tr>\n",
       "  </tbody>\n",
       "</table>\n",
       "</div>"
      ],
      "text/plain": [
       "                                                                                                     hypothesis  \\\n",
       "7              Добавить форму подписки на все основные страницы, чтобы собрать базу клиентов для email-рассылок   \n",
       "2  Добавить блоки рекомендаций товаров на сайт интернет магазина, чтобы повысить конверсию и средний чек заказа   \n",
       "0            Добавить два новых канала привлечения трафика, что позволит привлекать на 30% больше пользователей   \n",
       "6          Показать на главной странице баннеры с актуальными акциями и распродажами, чтобы увеличить конверсию   \n",
       "8                                                       Запустить акцию, дающую скидку на товар в день рождения   \n",
       "3           Изменить структура категорий, что увеличит конверсию, т.к. пользователи быстрее найдут нужный товар   \n",
       "1                                     Запустить собственную службу доставки, что сократит срок доставки заказов   \n",
       "5                      Добавить страницу отзывов клиентов о магазине, что позволит увеличить количество заказов   \n",
       "4                              Изменить цвет фона главной страницы, чтобы увеличить вовлеченность пользователей   \n",
       "\n",
       "   reach  impact  confidence  efforts    ICE   RICE  \n",
       "7     10       7           8        5  11.20  112.0  \n",
       "2      8       3           7        3   7.00   56.0  \n",
       "0      3      10           8        6  13.33   40.0  \n",
       "6      5       3           8        3   8.00   40.0  \n",
       "8      1       9           9        5  16.20   16.2  \n",
       "3      8       3           3        8   1.12    9.0  \n",
       "1      2       5           4       10   2.00    4.0  \n",
       "5      3       2           2        3   1.33    4.0  \n",
       "4      3       1           1        1   1.00    3.0  "
      ]
     },
     "execution_count": 13,
     "metadata": {},
     "output_type": "execute_result"
    }
   ],
   "source": [
    "hypothesis.head(9).sort_values(by='RICE', ascending=False)"
   ]
  },
  {
   "cell_type": "markdown",
   "id": "4631e816",
   "metadata": {},
   "source": [
    "## Вывод"
   ]
  },
  {
   "cell_type": "markdown",
   "id": "3c2a3484",
   "metadata": {},
   "source": [
    "Посмотрим, как изменилась проритизация гипотез при применении RICE вместо ICE:"
   ]
  },
  {
   "cell_type": "code",
   "execution_count": 14,
   "id": "4f26f93b",
   "metadata": {},
   "outputs": [
    {
     "data": {
      "image/png": "[encoded data removed]",
      "text/plain": [
       "<Figure size 1080x504 with 1 Axes>"
      ]
     },
     "metadata": {
      "needs_background": "light"
     },
     "output_type": "display_data"
    }
   ],
   "source": [
    "hypothesis.loc[:,['ICE','RICE']].plot(figsize=(15, 7), grid=True, ylabel='Баллы', xlabel='Индекс гипотезы')\n",
    "\n",
    "plt.show()"
   ]
  },
  {
   "cell_type": "code",
   "execution_count": 15,
   "id": "bfd6b1c0",
   "metadata": {},
   "outputs": [
    {
     "data": {
      "image/png": "[encoded data removed]",
      "text/plain": [
       "<Figure size 1080x504 with 2 Axes>"
      ]
     },
     "metadata": {
      "needs_background": "light"
     },
     "output_type": "display_data"
    }
   ],
   "source": [
    "fig, ax1 = plt.subplots(figsize=(15, 7))\n",
    "\n",
    "color = 'tab:red'\n",
    "ax1.set_xlabel('Индекс гипотезы')\n",
    "ax1.set_ylabel('Баллы', color=color)\n",
    "ax1.plot(hypothesis.index , hypothesis['ICE'], color=color, label='ICE')\n",
    "#ax1.tick_params(axis='y', labelcolor=color)\n",
    "\n",
    "ax2 = ax1.twinx()  # создать экземпляр второй оси, которая разделяет одну и ту же ось x\n",
    "\n",
    "color = 'tab:blue'\n",
    "ax2.set_ylabel('Баллы', color=color)  # мы уже обработали ось x с помощью ax1\n",
    "ax2.plot(hypothesis.index , hypothesis['RICE'], color=color, label='RICE')\n",
    "#ax2.tick_params(axis='y', labelcolor=color)\n",
    "\n",
    "fig.tight_layout()  # иначе будет правая метка Y слегка обрезана\n",
    "ax1.legend(fontsize=12, shadow=True, title='Легенда')\n",
    "ax2.legend(fontsize=12, shadow=True, title='Легенда')\n",
    "plt.show()"
   ]
  },
  {
   "cell_type": "markdown",
   "id": "c48d9257",
   "metadata": {},
   "source": [
    "Как мы видим по ICE наиболее перспективные гипотезы 8,0,7,6,2, а по RICE 7,2,0,6,8.\n",
    "У гипотез 7 и 2 очень большой охват пользователей поэтому эти гипотезы вышли не первые места в RICE.\n",
    "Сложно сделать приоритизацию по таким данным и выделить например самые приоритетные гипотезы. "
   ]
  },
  {
   "cell_type": "markdown",
   "id": "ce07ea6c",
   "metadata": {},
   "source": [
    "Попробуем теперь сложить столбцы ICE  и RICE и получить те гипотезы, которые набрали больше всего баллов по двум видам оценок приоритизации:"
   ]
  },
  {
   "cell_type": "code",
   "execution_count": 16,
   "id": "e586d74a",
   "metadata": {},
   "outputs": [],
   "source": [
    "hypothesis['sum_priority'] = (\n",
    "                hypothesis['ICE']+\n",
    "                hypothesis['RICE']\n",
    "    )"
   ]
  },
  {
   "cell_type": "code",
   "execution_count": 17,
   "id": "c3e42da2",
   "metadata": {},
   "outputs": [],
   "source": [
    "hypothesis_priority = hypothesis.head(9).sort_values(by='sum_priority', ascending=False)"
   ]
  },
  {
   "cell_type": "markdown",
   "id": "2c4d01a1",
   "metadata": {},
   "source": [
    "Ну вот, нагдядно видим, что гипотезы 7 и 2 самые приоритетные!"
   ]
  },
  {
   "cell_type": "code",
   "execution_count": 18,
   "id": "d44be420",
   "metadata": {},
   "outputs": [
    {
     "data": {
      "text/plain": [
       "7                Добавить форму подписки на все основные страницы, чтобы собрать базу клиентов для email-рассылок\n",
       "2    Добавить блоки рекомендаций товаров на сайт интернет магазина, чтобы повысить конверсию и средний чек заказа\n",
       "Name: hypothesis, dtype: object"
      ]
     },
     "execution_count": 18,
     "metadata": {},
     "output_type": "execute_result"
    }
   ],
   "source": [
    "# Сброс ограничений на количество символов в записи\n",
    "pd.set_option('display.max_colwidth', None)\n",
    "\n",
    "hypothesis_priority.iloc[0:2,0]"
   ]
  },
  {
   "cell_type": "markdown",
   "id": "222a12b5",
   "metadata": {},
   "source": [
    "# Анализ А/В-теста"
   ]
  },
  {
   "cell_type": "markdown",
   "id": "511dd309",
   "metadata": {},
   "source": [
    "Посмотрим еще раз как выглядит таблица orders:"
   ]
  },
  {
   "cell_type": "code",
   "execution_count": 19,
   "id": "8ca2059f",
   "metadata": {},
   "outputs": [
    {
     "data": {
      "text/html": [
       "<div>\n",
       "<style scoped>\n",
       "    .dataframe tbody tr th:only-of-type {\n",
       "        vertical-align: middle;\n",
       "    }\n",
       "\n",
       "    .dataframe tbody tr th {\n",
       "        vertical-align: top;\n",
       "    }\n",
       "\n",
       "    .dataframe thead th {\n",
       "        text-align: right;\n",
       "    }\n",
       "</style>\n",
       "<table border=\"1\" class=\"dataframe\">\n",
       "  <thead>\n",
       "    <tr style=\"text-align: right;\">\n",
       "      <th></th>\n",
       "      <th>transactionId</th>\n",
       "      <th>visitorId</th>\n",
       "      <th>date</th>\n",
       "      <th>revenue</th>\n",
       "      <th>group</th>\n",
       "    </tr>\n",
       "  </thead>\n",
       "  <tbody>\n",
       "    <tr>\n",
       "      <th>0</th>\n",
       "      <td>3667963787</td>\n",
       "      <td>3312258926</td>\n",
       "      <td>2019-08-15</td>\n",
       "      <td>1650</td>\n",
       "      <td>B</td>\n",
       "    </tr>\n",
       "    <tr>\n",
       "      <th>1</th>\n",
       "      <td>2804400009</td>\n",
       "      <td>3642806036</td>\n",
       "      <td>2019-08-15</td>\n",
       "      <td>730</td>\n",
       "      <td>B</td>\n",
       "    </tr>\n",
       "    <tr>\n",
       "      <th>3</th>\n",
       "      <td>3797467345</td>\n",
       "      <td>1196621759</td>\n",
       "      <td>2019-08-15</td>\n",
       "      <td>9759</td>\n",
       "      <td>B</td>\n",
       "    </tr>\n",
       "    <tr>\n",
       "      <th>4</th>\n",
       "      <td>2282983706</td>\n",
       "      <td>2322279887</td>\n",
       "      <td>2019-08-15</td>\n",
       "      <td>2308</td>\n",
       "      <td>B</td>\n",
       "    </tr>\n",
       "    <tr>\n",
       "      <th>5</th>\n",
       "      <td>182168103</td>\n",
       "      <td>935554773</td>\n",
       "      <td>2019-08-15</td>\n",
       "      <td>2210</td>\n",
       "      <td>B</td>\n",
       "    </tr>\n",
       "  </tbody>\n",
       "</table>\n",
       "</div>"
      ],
      "text/plain": [
       "   transactionId   visitorId       date  revenue group\n",
       "0     3667963787  3312258926 2019-08-15     1650     B\n",
       "1     2804400009  3642806036 2019-08-15      730     B\n",
       "3     3797467345  1196621759 2019-08-15     9759     B\n",
       "4     2282983706  2322279887 2019-08-15     2308     B\n",
       "5      182168103   935554773 2019-08-15     2210     B"
      ]
     },
     "metadata": {},
     "output_type": "display_data"
    },
    {
     "data": {
      "text/html": [
       "<div>\n",
       "<style scoped>\n",
       "    .dataframe tbody tr th:only-of-type {\n",
       "        vertical-align: middle;\n",
       "    }\n",
       "\n",
       "    .dataframe tbody tr th {\n",
       "        vertical-align: top;\n",
       "    }\n",
       "\n",
       "    .dataframe thead th {\n",
       "        text-align: right;\n",
       "    }\n",
       "</style>\n",
       "<table border=\"1\" class=\"dataframe\">\n",
       "  <thead>\n",
       "    <tr style=\"text-align: right;\">\n",
       "      <th></th>\n",
       "      <th>date</th>\n",
       "      <th>group</th>\n",
       "      <th>visitors</th>\n",
       "    </tr>\n",
       "  </thead>\n",
       "  <tbody>\n",
       "    <tr>\n",
       "      <th>0</th>\n",
       "      <td>2019-08-01</td>\n",
       "      <td>A</td>\n",
       "      <td>719</td>\n",
       "    </tr>\n",
       "    <tr>\n",
       "      <th>1</th>\n",
       "      <td>2019-08-02</td>\n",
       "      <td>A</td>\n",
       "      <td>619</td>\n",
       "    </tr>\n",
       "    <tr>\n",
       "      <th>2</th>\n",
       "      <td>2019-08-03</td>\n",
       "      <td>A</td>\n",
       "      <td>507</td>\n",
       "    </tr>\n",
       "    <tr>\n",
       "      <th>3</th>\n",
       "      <td>2019-08-04</td>\n",
       "      <td>A</td>\n",
       "      <td>717</td>\n",
       "    </tr>\n",
       "    <tr>\n",
       "      <th>4</th>\n",
       "      <td>2019-08-05</td>\n",
       "      <td>A</td>\n",
       "      <td>756</td>\n",
       "    </tr>\n",
       "  </tbody>\n",
       "</table>\n",
       "</div>"
      ],
      "text/plain": [
       "        date group  visitors\n",
       "0 2019-08-01     A       719\n",
       "1 2019-08-02     A       619\n",
       "2 2019-08-03     A       507\n",
       "3 2019-08-04     A       717\n",
       "4 2019-08-05     A       756"
      ]
     },
     "metadata": {},
     "output_type": "display_data"
    }
   ],
   "source": [
    "display(orders.head(5))\n",
    "display(visitors.head(5))"
   ]
  },
  {
   "cell_type": "markdown",
   "id": "f90f7741",
   "metadata": {},
   "source": [
    "## Постороим график кумулитивной выручки по группам"
   ]
  },
  {
   "cell_type": "markdown",
   "id": "a6a0fc29",
   "metadata": {},
   "source": [
    "1) Создадим датафрейм datesGroups с уникальными парами значений `date` и `group`, таблицы orders."
   ]
  },
  {
   "cell_type": "code",
   "execution_count": 20,
   "id": "650261ab",
   "metadata": {},
   "outputs": [
    {
     "data": {
      "text/html": [
       "<div>\n",
       "<style scoped>\n",
       "    .dataframe tbody tr th:only-of-type {\n",
       "        vertical-align: middle;\n",
       "    }\n",
       "\n",
       "    .dataframe tbody tr th {\n",
       "        vertical-align: top;\n",
       "    }\n",
       "\n",
       "    .dataframe thead th {\n",
       "        text-align: right;\n",
       "    }\n",
       "</style>\n",
       "<table border=\"1\" class=\"dataframe\">\n",
       "  <thead>\n",
       "    <tr style=\"text-align: right;\">\n",
       "      <th></th>\n",
       "      <th>date</th>\n",
       "      <th>group</th>\n",
       "    </tr>\n",
       "  </thead>\n",
       "  <tbody>\n",
       "    <tr>\n",
       "      <th>0</th>\n",
       "      <td>2019-08-15</td>\n",
       "      <td>B</td>\n",
       "    </tr>\n",
       "    <tr>\n",
       "      <th>7</th>\n",
       "      <td>2019-08-15</td>\n",
       "      <td>A</td>\n",
       "    </tr>\n",
       "    <tr>\n",
       "      <th>45</th>\n",
       "      <td>2019-08-16</td>\n",
       "      <td>A</td>\n",
       "    </tr>\n",
       "  </tbody>\n",
       "</table>\n",
       "</div>"
      ],
      "text/plain": [
       "         date group\n",
       "0  2019-08-15     B\n",
       "7  2019-08-15     A\n",
       "45 2019-08-16     A"
      ]
     },
     "execution_count": 20,
     "metadata": {},
     "output_type": "execute_result"
    }
   ],
   "source": [
    "datesGroups = orders[['date','group']].drop_duplicates()\n",
    "datesGroups.head(3)"
   ]
  },
  {
   "cell_type": "markdown",
   "id": "8fbce8c9",
   "metadata": {},
   "source": [
    "2) Объявим датафрейм ordersAggregated, которая содержит следующие данные:\n",
    "*     дату;\n",
    "*     группу A/B-теста;\n",
    "*     число уникальных заказов в группе теста по указанную дату включительно;\n",
    "*     число уникальных пользователей, совершивших хотя бы 1 заказ в группе теста по указанную дату включительно;\n",
    "*     суммарную выручку заказов в группе теста по указанную дату включительно."
   ]
  },
  {
   "cell_type": "code",
   "execution_count": 62,
   "id": "9d7eb771",
   "metadata": {},
   "outputs": [
    {
     "data": {
      "text/html": [
       "<div>\n",
       "<style scoped>\n",
       "    .dataframe tbody tr th:only-of-type {\n",
       "        vertical-align: middle;\n",
       "    }\n",
       "\n",
       "    .dataframe tbody tr th {\n",
       "        vertical-align: top;\n",
       "    }\n",
       "\n",
       "    .dataframe thead th {\n",
       "        text-align: right;\n",
       "    }\n",
       "</style>\n",
       "<table border=\"1\" class=\"dataframe\">\n",
       "  <thead>\n",
       "    <tr style=\"text-align: right;\">\n",
       "      <th></th>\n",
       "      <th>date</th>\n",
       "      <th>group</th>\n",
       "      <th>transactionId</th>\n",
       "      <th>visitorId</th>\n",
       "      <th>revenue</th>\n",
       "    </tr>\n",
       "  </thead>\n",
       "  <tbody>\n",
       "    <tr>\n",
       "      <th>55</th>\n",
       "      <td>2019-08-01</td>\n",
       "      <td>A</td>\n",
       "      <td>23</td>\n",
       "      <td>19</td>\n",
       "      <td>142779</td>\n",
       "    </tr>\n",
       "    <tr>\n",
       "      <th>66</th>\n",
       "      <td>2019-08-01</td>\n",
       "      <td>B</td>\n",
       "      <td>17</td>\n",
       "      <td>17</td>\n",
       "      <td>59758</td>\n",
       "    </tr>\n",
       "    <tr>\n",
       "      <th>175</th>\n",
       "      <td>2019-08-02</td>\n",
       "      <td>A</td>\n",
       "      <td>42</td>\n",
       "      <td>36</td>\n",
       "      <td>234381</td>\n",
       "    </tr>\n",
       "    <tr>\n",
       "      <th>173</th>\n",
       "      <td>2019-08-02</td>\n",
       "      <td>B</td>\n",
       "      <td>40</td>\n",
       "      <td>39</td>\n",
       "      <td>221801</td>\n",
       "    </tr>\n",
       "    <tr>\n",
       "      <th>291</th>\n",
       "      <td>2019-08-03</td>\n",
       "      <td>A</td>\n",
       "      <td>66</td>\n",
       "      <td>60</td>\n",
       "      <td>346854</td>\n",
       "    </tr>\n",
       "  </tbody>\n",
       "</table>\n",
       "</div>"
      ],
      "text/plain": [
       "          date group  transactionId  visitorId  revenue\n",
       "55  2019-08-01     A             23         19   142779\n",
       "66  2019-08-01     B             17         17    59758\n",
       "175 2019-08-02     A             42         36   234381\n",
       "173 2019-08-02     B             40         39   221801\n",
       "291 2019-08-03     A             66         60   346854"
      ]
     },
     "execution_count": 62,
     "metadata": {},
     "output_type": "execute_result"
    }
   ],
   "source": [
    "ordersAggregated = ( \n",
    "    datesGroups.apply(\n",
    "    lambda x: orders[np.logical_and(orders['date'] <= x['date'],\n",
    "                                    orders['group'] == x['group'])].agg(\n",
    "        {'date' : 'max', \n",
    "         'group' : 'max', \n",
    "          'transactionId' : 'nunique', \n",
    "          'visitorId' : 'nunique', \n",
    "         'revenue' : 'sum'}),\n",
    "    axis=1).sort_values(by=['date','group'])\n",
    ")\n",
    "ordersAggregated.head()"
   ]
  },
  {
   "cell_type": "markdown",
   "id": "e2f65daa",
   "metadata": {},
   "source": [
    "3) Объявим датафрейм visitorsAggregated, которая содержит следующие данные:\n",
    "*     дату;\n",
    "*     группу A/B-теста;\n",
    "*     количество уникальных посетителей в группе теста по указанную дату включительно."
   ]
  },
  {
   "cell_type": "code",
   "execution_count": 22,
   "id": "0db77acb",
   "metadata": {},
   "outputs": [
    {
     "data": {
      "text/html": [
       "<div>\n",
       "<style scoped>\n",
       "    .dataframe tbody tr th:only-of-type {\n",
       "        vertical-align: middle;\n",
       "    }\n",
       "\n",
       "    .dataframe tbody tr th {\n",
       "        vertical-align: top;\n",
       "    }\n",
       "\n",
       "    .dataframe thead th {\n",
       "        text-align: right;\n",
       "    }\n",
       "</style>\n",
       "<table border=\"1\" class=\"dataframe\">\n",
       "  <thead>\n",
       "    <tr style=\"text-align: right;\">\n",
       "      <th></th>\n",
       "      <th>date</th>\n",
       "      <th>group</th>\n",
       "      <th>visitors</th>\n",
       "    </tr>\n",
       "  </thead>\n",
       "  <tbody>\n",
       "    <tr>\n",
       "      <th>55</th>\n",
       "      <td>2019-08-01</td>\n",
       "      <td>A</td>\n",
       "      <td>719</td>\n",
       "    </tr>\n",
       "    <tr>\n",
       "      <th>66</th>\n",
       "      <td>2019-08-01</td>\n",
       "      <td>B</td>\n",
       "      <td>713</td>\n",
       "    </tr>\n",
       "    <tr>\n",
       "      <th>175</th>\n",
       "      <td>2019-08-02</td>\n",
       "      <td>A</td>\n",
       "      <td>1338</td>\n",
       "    </tr>\n",
       "  </tbody>\n",
       "</table>\n",
       "</div>"
      ],
      "text/plain": [
       "          date group  visitors\n",
       "55  2019-08-01     A       719\n",
       "66  2019-08-01     B       713\n",
       "175 2019-08-02     A      1338"
      ]
     },
     "execution_count": 22,
     "metadata": {},
     "output_type": "execute_result"
    }
   ],
   "source": [
    "visitorsAggregated = (\n",
    "    datesGroups.apply(\n",
    "        lambda x: visitors[np.logical_and(visitors['date'] <= x['date'],\n",
    "                                          visitors['group'] == x['group'])].agg(\n",
    "            {'date' : 'max', \n",
    "             'group' : 'max', \n",
    "             'visitors' : 'sum'}), \n",
    "        axis=1).sort_values(by=['date','group'])\n",
    ")\n",
    "visitorsAggregated.head(3)"
   ]
  },
  {
   "cell_type": "markdown",
   "id": "e7bae81d",
   "metadata": {},
   "source": [
    "4)  Определим датафрейм cumulativeData:"
   ]
  },
  {
   "cell_type": "code",
   "execution_count": 23,
   "id": "fb2d06ff",
   "metadata": {},
   "outputs": [
    {
     "data": {
      "text/html": [
       "<div>\n",
       "<style scoped>\n",
       "    .dataframe tbody tr th:only-of-type {\n",
       "        vertical-align: middle;\n",
       "    }\n",
       "\n",
       "    .dataframe tbody tr th {\n",
       "        vertical-align: top;\n",
       "    }\n",
       "\n",
       "    .dataframe thead th {\n",
       "        text-align: right;\n",
       "    }\n",
       "</style>\n",
       "<table border=\"1\" class=\"dataframe\">\n",
       "  <thead>\n",
       "    <tr style=\"text-align: right;\">\n",
       "      <th></th>\n",
       "      <th>date</th>\n",
       "      <th>group</th>\n",
       "      <th>transactionId</th>\n",
       "      <th>visitorId</th>\n",
       "      <th>revenue</th>\n",
       "      <th>visitors</th>\n",
       "    </tr>\n",
       "  </thead>\n",
       "  <tbody>\n",
       "    <tr>\n",
       "      <th>0</th>\n",
       "      <td>2019-08-01</td>\n",
       "      <td>A</td>\n",
       "      <td>23</td>\n",
       "      <td>19</td>\n",
       "      <td>142779</td>\n",
       "      <td>719</td>\n",
       "    </tr>\n",
       "    <tr>\n",
       "      <th>1</th>\n",
       "      <td>2019-08-01</td>\n",
       "      <td>B</td>\n",
       "      <td>17</td>\n",
       "      <td>17</td>\n",
       "      <td>59758</td>\n",
       "      <td>713</td>\n",
       "    </tr>\n",
       "    <tr>\n",
       "      <th>2</th>\n",
       "      <td>2019-08-02</td>\n",
       "      <td>A</td>\n",
       "      <td>42</td>\n",
       "      <td>36</td>\n",
       "      <td>234381</td>\n",
       "      <td>1338</td>\n",
       "    </tr>\n",
       "    <tr>\n",
       "      <th>3</th>\n",
       "      <td>2019-08-02</td>\n",
       "      <td>B</td>\n",
       "      <td>40</td>\n",
       "      <td>39</td>\n",
       "      <td>221801</td>\n",
       "      <td>1294</td>\n",
       "    </tr>\n",
       "    <tr>\n",
       "      <th>4</th>\n",
       "      <td>2019-08-03</td>\n",
       "      <td>A</td>\n",
       "      <td>66</td>\n",
       "      <td>60</td>\n",
       "      <td>346854</td>\n",
       "      <td>1845</td>\n",
       "    </tr>\n",
       "  </tbody>\n",
       "</table>\n",
       "</div>"
      ],
      "text/plain": [
       "        date group  transactionId  visitorId  revenue  visitors\n",
       "0 2019-08-01     A             23         19   142779       719\n",
       "1 2019-08-01     B             17         17    59758       713\n",
       "2 2019-08-02     A             42         36   234381      1338\n",
       "3 2019-08-02     B             40         39   221801      1294\n",
       "4 2019-08-03     A             66         60   346854      1845"
      ]
     },
     "execution_count": 23,
     "metadata": {},
     "output_type": "execute_result"
    }
   ],
   "source": [
    "cumulativeData = ordersAggregated.merge(\n",
    "    visitorsAggregated, \n",
    "    left_on=['date', 'group'], \n",
    "    right_on=['date', 'group']\n",
    ")\n",
    "cumulativeData.head(5)"
   ]
  },
  {
   "cell_type": "markdown",
   "id": "9f8496af",
   "metadata": {},
   "source": [
    "5) Объявим датафреймы cumulativeRevenueA и cumulativeRevenueB, в которых сохраним данные о датах, выручке и числе заказов в группах A и B:"
   ]
  },
  {
   "cell_type": "code",
   "execution_count": 24,
   "id": "56fc9fe9",
   "metadata": {},
   "outputs": [
    {
     "data": {
      "text/plain": [
       "Text(0.5, 1.0, 'Кумулитивая выручка по группам')"
      ]
     },
     "execution_count": 24,
     "metadata": {},
     "output_type": "execute_result"
    },
    {
     "data": {
      "image/png": "[encoded data removed]",
      "text/plain": [
       "<Figure size 1080x504 with 1 Axes>"
      ]
     },
     "metadata": {
      "needs_background": "light"
     },
     "output_type": "display_data"
    }
   ],
   "source": [
    "# датафрейм с кумулятивным количеством заказов и кумулятивной выручкой по дням в группе А\n",
    "cumulativeRevenueA = cumulativeData[cumulativeData['group']=='A'][['date','revenue', 'transactionId']]\n",
    "\n",
    "# датафрейм с кумулятивным количеством заказов и кумулятивной выручкой по дням в группе B\n",
    "cumulativeRevenueB = cumulativeData[cumulativeData['group']=='B'][['date','revenue', 'transactionId']]\n",
    "\n",
    "# Выставим размер окна\n",
    "plt.figure(figsize=(15, 7))\n",
    "\n",
    "# Строим график выручки группы А\n",
    "plt.plot(cumulativeRevenueA['date'], cumulativeRevenueA['revenue'], label='A')\n",
    "\n",
    "# Строим график выручки группы B\n",
    "plt.plot(cumulativeRevenueB['date'], cumulativeRevenueB['revenue'], label='B')\n",
    "\n",
    "plt.legend()\n",
    "plt.title('Кумулитивая выручка по группам')\n"
   ]
  },
  {
   "cell_type": "markdown",
   "id": "b9623188",
   "metadata": {},
   "source": [
    "### Вывод\n",
    "На протяжение всего теста сегмент В лидировал и середине теста присутствует резкий скачок резкий скачок. Скорей всего это могло произойти из-за аномально больших заказов."
   ]
  },
  {
   "cell_type": "markdown",
   "id": "992a3151",
   "metadata": {},
   "source": [
    "## Постороим график кумулитивного среднего чека по группам"
   ]
  },
  {
   "cell_type": "code",
   "execution_count": 25,
   "id": "45e30bbd",
   "metadata": {},
   "outputs": [
    {
     "data": {
      "text/plain": [
       "Text(0.5, 1.0, 'кумулитивный средний чек по группам')"
      ]
     },
     "execution_count": 25,
     "metadata": {},
     "output_type": "execute_result"
    },
    {
     "data": {
      "image/png": "[encoded data removed]",
      "text/plain": [
       "<Figure size 1080x504 with 1 Axes>"
      ]
     },
     "metadata": {
      "needs_background": "light"
     },
     "output_type": "display_data"
    }
   ],
   "source": [
    "plt.figure(figsize=(15, 7))\n",
    "plt.plot(cumulativeRevenueA['date'], cumulativeRevenueA['revenue']/cumulativeRevenueA['transactionId'], label='A')\n",
    "plt.plot(cumulativeRevenueB['date'], cumulativeRevenueB['revenue']/cumulativeRevenueB['transactionId'], label='B')\n",
    "plt.legend()\n",
    "plt.title('кумулитивный средний чек по группам')"
   ]
  },
  {
   "cell_type": "markdown",
   "id": "f6b02c1c",
   "metadata": {},
   "source": [
    "### Вывод\n",
    "Кумулитивное значение среднего чека по сегментам продолжает колебаться. Требуется дополнительный анализ выбросов, которое так сильно искажают результаты."
   ]
  },
  {
   "cell_type": "markdown",
   "id": "1dff3f48",
   "metadata": {},
   "source": [
    "<div style=\"border:solid green 2px; padding: 20px\"> \n",
    "    \n",
    "**Комментарий ревьюера**\n",
    "\n",
    "    \n",
    "**#ок**\n",
    "\n",
    "+\n",
    "    \n",
    "</div>"
   ]
  },
  {
   "cell_type": "markdown",
   "id": "4e3263b9",
   "metadata": {},
   "source": [
    "## Постороим график относительного изменения кумулитивного среднего чека группы В к группе А"
   ]
  },
  {
   "cell_type": "markdown",
   "id": "a3b777d8",
   "metadata": {},
   "source": [
    "1) Создадим датафрейм mergedCumulativeRevenue, где соеденим cumulativeRevenueA с cumulativeRevenueB"
   ]
  },
  {
   "cell_type": "code",
   "execution_count": 26,
   "id": "85e15b9c",
   "metadata": {},
   "outputs": [
    {
     "data": {
      "text/plain": [
       "Text(0.5, 1.0, 'график относительного изменения кумулитивного среднего чека группы В к группе А')"
      ]
     },
     "execution_count": 26,
     "metadata": {},
     "output_type": "execute_result"
    },
    {
     "data": {
      "image/png": "[encoded data removed]",
      "text/plain": [
       "<Figure size 1080x504 with 1 Axes>"
      ]
     },
     "metadata": {
      "needs_background": "light"
     },
     "output_type": "display_data"
    }
   ],
   "source": [
    "# собираем данные в одном датафрейме\n",
    "mergedCumulativeRevenue = cumulativeRevenueA.merge(\n",
    "    cumulativeRevenueB, \n",
    "    left_on='date', \n",
    "    right_on='date', \n",
    "    how='left', \n",
    "    suffixes=['A', 'B'])\n",
    "\n",
    "plt.figure(figsize=(15, 7))\n",
    "plt.plot(mergedCumulativeRevenue['date'], \n",
    "         (mergedCumulativeRevenue['revenueB']/mergedCumulativeRevenue['transactionIdB'])/\n",
    "         (mergedCumulativeRevenue['revenueA']/mergedCumulativeRevenue['transactionIdA'])-1)\n",
    "\n",
    "# добавляем ось X\n",
    "plt.axhline(y=0, color='black', linestyle='--')\n",
    "\n",
    "plt.title('график относительного изменения кумулитивного среднего чека группы В к группе А')"
   ]
  },
  {
   "cell_type": "code",
   "execution_count": 27,
   "id": "b0f568d0",
   "metadata": {},
   "outputs": [
    {
     "data": {
      "text/html": [
       "<div>\n",
       "<style scoped>\n",
       "    .dataframe tbody tr th:only-of-type {\n",
       "        vertical-align: middle;\n",
       "    }\n",
       "\n",
       "    .dataframe tbody tr th {\n",
       "        vertical-align: top;\n",
       "    }\n",
       "\n",
       "    .dataframe thead th {\n",
       "        text-align: right;\n",
       "    }\n",
       "</style>\n",
       "<table border=\"1\" class=\"dataframe\">\n",
       "  <thead>\n",
       "    <tr style=\"text-align: right;\">\n",
       "      <th></th>\n",
       "      <th>date</th>\n",
       "      <th>revenueA</th>\n",
       "      <th>transactionIdA</th>\n",
       "      <th>revenueB</th>\n",
       "      <th>transactionIdB</th>\n",
       "    </tr>\n",
       "  </thead>\n",
       "  <tbody>\n",
       "    <tr>\n",
       "      <th>0</th>\n",
       "      <td>2019-08-01</td>\n",
       "      <td>142779</td>\n",
       "      <td>23</td>\n",
       "      <td>59758</td>\n",
       "      <td>17</td>\n",
       "    </tr>\n",
       "    <tr>\n",
       "      <th>1</th>\n",
       "      <td>2019-08-02</td>\n",
       "      <td>234381</td>\n",
       "      <td>42</td>\n",
       "      <td>221801</td>\n",
       "      <td>40</td>\n",
       "    </tr>\n",
       "    <tr>\n",
       "      <th>2</th>\n",
       "      <td>2019-08-03</td>\n",
       "      <td>346854</td>\n",
       "      <td>66</td>\n",
       "      <td>288850</td>\n",
       "      <td>54</td>\n",
       "    </tr>\n",
       "    <tr>\n",
       "      <th>3</th>\n",
       "      <td>2019-08-04</td>\n",
       "      <td>388030</td>\n",
       "      <td>77</td>\n",
       "      <td>385740</td>\n",
       "      <td>68</td>\n",
       "    </tr>\n",
       "    <tr>\n",
       "      <th>4</th>\n",
       "      <td>2019-08-05</td>\n",
       "      <td>474413</td>\n",
       "      <td>99</td>\n",
       "      <td>475648</td>\n",
       "      <td>89</td>\n",
       "    </tr>\n",
       "  </tbody>\n",
       "</table>\n",
       "</div>"
      ],
      "text/plain": [
       "        date  revenueA  transactionIdA  revenueB  transactionIdB\n",
       "0 2019-08-01    142779              23     59758              17\n",
       "1 2019-08-02    234381              42    221801              40\n",
       "2 2019-08-03    346854              66    288850              54\n",
       "3 2019-08-04    388030              77    385740              68\n",
       "4 2019-08-05    474413              99    475648              89"
      ]
     },
     "execution_count": 27,
     "metadata": {},
     "output_type": "execute_result"
    }
   ],
   "source": [
    "mergedCumulativeRevenue.head(5)"
   ]
  },
  {
   "cell_type": "markdown",
   "id": "ae2dbb2b",
   "metadata": {},
   "source": [
    "### Вывод\n",
    "Результаты теста значительно и резко менялись в несколько дат. Видимо, именно тогда были совершены аномальные заказы."
   ]
  },
  {
   "cell_type": "markdown",
   "id": "9e1567a0",
   "metadata": {},
   "source": [
    "## Постороим график кумулитивной конверсии по группам"
   ]
  },
  {
   "cell_type": "markdown",
   "id": "2ad9f1ab",
   "metadata": {},
   "source": [
    "1) Добавим в датафрейм cumulativeData, столбец conversion, в котором будет рассчитана наша конверсия "
   ]
  },
  {
   "cell_type": "code",
   "execution_count": 28,
   "id": "580bdaf9",
   "metadata": {},
   "outputs": [
    {
     "data": {
      "text/plain": [
       "Text(0.5, 1.0, 'график кумулитивной конверсии по группам')"
      ]
     },
     "execution_count": 28,
     "metadata": {},
     "output_type": "execute_result"
    },
    {
     "data": {
      "image/png": "[encoded data removed]",
      "text/plain": [
       "<Figure size 1080x504 with 1 Axes>"
      ]
     },
     "metadata": {
      "needs_background": "light"
     },
     "output_type": "display_data"
    }
   ],
   "source": [
    "# считаем кумулятивную конверсию\n",
    "cumulativeData['conversion'] = cumulativeData['transactionId']/cumulativeData['visitors']\n",
    "\n",
    "# отделяем данные по группе A\n",
    "cumulativeDataA = cumulativeData[cumulativeData['group']=='A']\n",
    "\n",
    "# отделяем данные по группе B\n",
    "cumulativeDataB = cumulativeData[cumulativeData['group']=='B']\n",
    "\n",
    "# Выставим размер окна\n",
    "plt.figure(figsize=(15, 7))\n",
    "\n",
    "# строим графики\n",
    "plt.plot(cumulativeDataA['date'], cumulativeDataA['conversion'], label='A')\n",
    "plt.plot(cumulativeDataB['date'], cumulativeDataB['conversion'], label='B')\n",
    "plt.legend()\n",
    "plt.title('график кумулитивной конверсии по группам')\n"
   ]
  },
  {
   "cell_type": "code",
   "execution_count": 29,
   "id": "aac5cce9",
   "metadata": {},
   "outputs": [
    {
     "data": {
      "text/html": [
       "<div>\n",
       "<style scoped>\n",
       "    .dataframe tbody tr th:only-of-type {\n",
       "        vertical-align: middle;\n",
       "    }\n",
       "\n",
       "    .dataframe tbody tr th {\n",
       "        vertical-align: top;\n",
       "    }\n",
       "\n",
       "    .dataframe thead th {\n",
       "        text-align: right;\n",
       "    }\n",
       "</style>\n",
       "<table border=\"1\" class=\"dataframe\">\n",
       "  <thead>\n",
       "    <tr style=\"text-align: right;\">\n",
       "      <th></th>\n",
       "      <th>date</th>\n",
       "      <th>group</th>\n",
       "      <th>transactionId</th>\n",
       "      <th>visitorId</th>\n",
       "      <th>revenue</th>\n",
       "      <th>visitors</th>\n",
       "      <th>conversion</th>\n",
       "    </tr>\n",
       "  </thead>\n",
       "  <tbody>\n",
       "    <tr>\n",
       "      <th>0</th>\n",
       "      <td>2019-08-01</td>\n",
       "      <td>A</td>\n",
       "      <td>23</td>\n",
       "      <td>19</td>\n",
       "      <td>142779</td>\n",
       "      <td>719</td>\n",
       "      <td>0.031989</td>\n",
       "    </tr>\n",
       "    <tr>\n",
       "      <th>1</th>\n",
       "      <td>2019-08-01</td>\n",
       "      <td>B</td>\n",
       "      <td>17</td>\n",
       "      <td>17</td>\n",
       "      <td>59758</td>\n",
       "      <td>713</td>\n",
       "      <td>0.023843</td>\n",
       "    </tr>\n",
       "    <tr>\n",
       "      <th>2</th>\n",
       "      <td>2019-08-02</td>\n",
       "      <td>A</td>\n",
       "      <td>42</td>\n",
       "      <td>36</td>\n",
       "      <td>234381</td>\n",
       "      <td>1338</td>\n",
       "      <td>0.031390</td>\n",
       "    </tr>\n",
       "    <tr>\n",
       "      <th>3</th>\n",
       "      <td>2019-08-02</td>\n",
       "      <td>B</td>\n",
       "      <td>40</td>\n",
       "      <td>39</td>\n",
       "      <td>221801</td>\n",
       "      <td>1294</td>\n",
       "      <td>0.030912</td>\n",
       "    </tr>\n",
       "    <tr>\n",
       "      <th>4</th>\n",
       "      <td>2019-08-03</td>\n",
       "      <td>A</td>\n",
       "      <td>66</td>\n",
       "      <td>60</td>\n",
       "      <td>346854</td>\n",
       "      <td>1845</td>\n",
       "      <td>0.035772</td>\n",
       "    </tr>\n",
       "  </tbody>\n",
       "</table>\n",
       "</div>"
      ],
      "text/plain": [
       "        date group  transactionId  visitorId  revenue  visitors  conversion\n",
       "0 2019-08-01     A             23         19   142779       719    0.031989\n",
       "1 2019-08-01     B             17         17    59758       713    0.023843\n",
       "2 2019-08-02     A             42         36   234381      1338    0.031390\n",
       "3 2019-08-02     B             40         39   221801      1294    0.030912\n",
       "4 2019-08-03     A             66         60   346854      1845    0.035772"
      ]
     },
     "execution_count": 29,
     "metadata": {},
     "output_type": "execute_result"
    }
   ],
   "source": [
    "cumulativeData.head()"
   ]
  },
  {
   "cell_type": "markdown",
   "id": "9079cf1a",
   "metadata": {},
   "source": [
    "### Вывод\n",
    "В начале теста конверсия сегмента А была выше, но с 2019-08-06 конверсия В пошла вверх и зафиксировалась примерно около одного значения 3,4%.  "
   ]
  },
  {
   "cell_type": "markdown",
   "id": "96d4a193",
   "metadata": {},
   "source": [
    "## Постороим график относительного изменения кумулитивной конверсии группы В к группе А"
   ]
  },
  {
   "cell_type": "markdown",
   "id": "bb51e0e4",
   "metadata": {},
   "source": [
    "1) Создадим датафрейм mergedCumulativeConversions, где соеденим cumulativeDataA с cumulativeDataB"
   ]
  },
  {
   "cell_type": "code",
   "execution_count": 30,
   "id": "ac0bf434",
   "metadata": {},
   "outputs": [
    {
     "data": {
      "text/plain": [
       "Text(0.5, 1.0, 'график относительного изменения кумулитивной конверсии группы В к группе А')"
      ]
     },
     "execution_count": 30,
     "metadata": {},
     "output_type": "execute_result"
    },
    {
     "data": {
      "image/png": "[encoded data removed]",
      "text/plain": [
       "<Figure size 1080x504 with 1 Axes>"
      ]
     },
     "metadata": {
      "needs_background": "light"
     },
     "output_type": "display_data"
    }
   ],
   "source": [
    "mergedCumulativeConversions = cumulativeDataA[['date','conversion']].merge(\n",
    "    cumulativeDataB[['date','conversion']],\n",
    "    left_on='date',\n",
    "    right_on='date',\n",
    "    how='left',\n",
    "    suffixes=['A', 'B'])\n",
    "\n",
    "plt.figure(figsize=(15, 7))\n",
    "\n",
    "plt.plot(\n",
    "    mergedCumulativeConversions['date'], \n",
    "    mergedCumulativeConversions['conversionB']/mergedCumulativeConversions['conversionA']-1, \n",
    "    label=\"Относительный прирост конверсии группы B относительно группы A\")\n",
    "\n",
    "plt.legend()\n",
    "\n",
    "plt.axhline(y=0, color='black', linestyle='--')\n",
    "plt.axhline(y=0.2, color='grey', linestyle='--')\n",
    "plt.title('график относительного изменения кумулитивной конверсии группы В к группе А')"
   ]
  },
  {
   "cell_type": "code",
   "execution_count": 31,
   "id": "ccd7a647",
   "metadata": {
    "scrolled": true
   },
   "outputs": [
    {
     "data": {
      "text/html": [
       "<div>\n",
       "<style scoped>\n",
       "    .dataframe tbody tr th:only-of-type {\n",
       "        vertical-align: middle;\n",
       "    }\n",
       "\n",
       "    .dataframe tbody tr th {\n",
       "        vertical-align: top;\n",
       "    }\n",
       "\n",
       "    .dataframe thead th {\n",
       "        text-align: right;\n",
       "    }\n",
       "</style>\n",
       "<table border=\"1\" class=\"dataframe\">\n",
       "  <thead>\n",
       "    <tr style=\"text-align: right;\">\n",
       "      <th></th>\n",
       "      <th>date</th>\n",
       "      <th>conversionA</th>\n",
       "      <th>conversionB</th>\n",
       "    </tr>\n",
       "  </thead>\n",
       "  <tbody>\n",
       "    <tr>\n",
       "      <th>0</th>\n",
       "      <td>2019-08-01</td>\n",
       "      <td>0.031989</td>\n",
       "      <td>0.023843</td>\n",
       "    </tr>\n",
       "    <tr>\n",
       "      <th>1</th>\n",
       "      <td>2019-08-02</td>\n",
       "      <td>0.031390</td>\n",
       "      <td>0.030912</td>\n",
       "    </tr>\n",
       "    <tr>\n",
       "      <th>2</th>\n",
       "      <td>2019-08-03</td>\n",
       "      <td>0.035772</td>\n",
       "      <td>0.029950</td>\n",
       "    </tr>\n",
       "    <tr>\n",
       "      <th>3</th>\n",
       "      <td>2019-08-04</td>\n",
       "      <td>0.030055</td>\n",
       "      <td>0.026428</td>\n",
       "    </tr>\n",
       "    <tr>\n",
       "      <th>4</th>\n",
       "      <td>2019-08-05</td>\n",
       "      <td>0.029837</td>\n",
       "      <td>0.027134</td>\n",
       "    </tr>\n",
       "  </tbody>\n",
       "</table>\n",
       "</div>"
      ],
      "text/plain": [
       "        date  conversionA  conversionB\n",
       "0 2019-08-01     0.031989     0.023843\n",
       "1 2019-08-02     0.031390     0.030912\n",
       "2 2019-08-03     0.035772     0.029950\n",
       "3 2019-08-04     0.030055     0.026428\n",
       "4 2019-08-05     0.029837     0.027134"
      ]
     },
     "execution_count": 31,
     "metadata": {},
     "output_type": "execute_result"
    }
   ],
   "source": [
    "mergedCumulativeConversions.head()"
   ]
  },
  {
   "cell_type": "markdown",
   "id": "73a9195c",
   "metadata": {},
   "source": [
    "### Вывод\n",
    "* С 2019-08-01 по 2019-08-07 были колебания конверсий А и Б.\n",
    "* С 2019-08-07 по 2019-08-17 конверсий Б и А становилась лучше и лучше и дошла до прироста 20% относительно А.\n",
    "* С 2019-08-17 по 2019-09-01 конверсий Б начала снижаться и в итоге зафиксировалась в районе 10-12% относительно А. "
   ]
  },
  {
   "cell_type": "markdown",
   "id": "cf30af67",
   "metadata": {},
   "source": [
    "## Постороим точечный график количества заказов по пользователям"
   ]
  },
  {
   "cell_type": "markdown",
   "id": "8baf01ca",
   "metadata": {},
   "source": [
    "1) Создадим датафрейм ordersByUsers с уникальными парами значений `visitorId` и `transactionId`, таблицы orders."
   ]
  },
  {
   "cell_type": "code",
   "execution_count": 32,
   "id": "639332ff",
   "metadata": {},
   "outputs": [
    {
     "data": {
      "text/html": [
       "<div>\n",
       "<style scoped>\n",
       "    .dataframe tbody tr th:only-of-type {\n",
       "        vertical-align: middle;\n",
       "    }\n",
       "\n",
       "    .dataframe tbody tr th {\n",
       "        vertical-align: top;\n",
       "    }\n",
       "\n",
       "    .dataframe thead th {\n",
       "        text-align: right;\n",
       "    }\n",
       "</style>\n",
       "<table border=\"1\" class=\"dataframe\">\n",
       "  <thead>\n",
       "    <tr style=\"text-align: right;\">\n",
       "      <th></th>\n",
       "      <th>visitorId</th>\n",
       "      <th>transactionId</th>\n",
       "    </tr>\n",
       "  </thead>\n",
       "  <tbody>\n",
       "    <tr>\n",
       "      <th>908</th>\n",
       "      <td>3967698036</td>\n",
       "      <td>3</td>\n",
       "    </tr>\n",
       "    <tr>\n",
       "      <th>55</th>\n",
       "      <td>249864742</td>\n",
       "      <td>3</td>\n",
       "    </tr>\n",
       "    <tr>\n",
       "      <th>478</th>\n",
       "      <td>2108163459</td>\n",
       "      <td>3</td>\n",
       "    </tr>\n",
       "    <tr>\n",
       "      <th>687</th>\n",
       "      <td>2988190573</td>\n",
       "      <td>3</td>\n",
       "    </tr>\n",
       "    <tr>\n",
       "      <th>890</th>\n",
       "      <td>3908431265</td>\n",
       "      <td>3</td>\n",
       "    </tr>\n",
       "  </tbody>\n",
       "</table>\n",
       "</div>"
      ],
      "text/plain": [
       "      visitorId  transactionId\n",
       "908  3967698036              3\n",
       "55    249864742              3\n",
       "478  2108163459              3\n",
       "687  2988190573              3\n",
       "890  3908431265              3"
      ]
     },
     "execution_count": 32,
     "metadata": {},
     "output_type": "execute_result"
    }
   ],
   "source": [
    "# Найдем число заказов по пользователям\n",
    "ordersByUsers = (\n",
    "    orders.groupby('visitorId', as_index=False).\n",
    "    agg({'transactionId': 'nunique'}).\n",
    "    sort_values(by='transactionId',ascending=False)\n",
    ")\n",
    "ordersByUsers.head()"
   ]
  },
  {
   "cell_type": "markdown",
   "id": "f3a92df8",
   "metadata": {},
   "source": [
    "Постройте диаграмму методом scatter(), где: \n",
    "* Ось x это x_values — сгенерированные номера наблюдений. \n",
    "* Ось у это значения transactionId датафрейма ordersByUsers."
   ]
  },
  {
   "cell_type": "code",
   "execution_count": 33,
   "id": "7f4958d5",
   "metadata": {},
   "outputs": [
    {
     "data": {
      "text/plain": [
       "<matplotlib.collections.PathCollection at 0x219263fde20>"
      ]
     },
     "execution_count": 33,
     "metadata": {},
     "output_type": "execute_result"
    },
    {
     "data": {
      "image/png": "[encoded data removed]",
      "text/plain": [
       "<Figure size 432x288 with 1 Axes>"
      ]
     },
     "metadata": {
      "needs_background": "light"
     },
     "output_type": "display_data"
    }
   ],
   "source": [
    "# серия из чисел от 0 до количества наблюдений в ordersByUsers\n",
    "x_values = pd.Series(range(0, len(ordersByUsers)))\n",
    "plt.scatter(x_values, ordersByUsers['transactionId']) "
   ]
  },
  {
   "cell_type": "markdown",
   "id": "0b04ba5f",
   "metadata": {},
   "source": [
    "### Вывод\n",
    "Пользователей заказавших 2 и более заказов совсем мало, вполне может быть, что это аномальные значения."
   ]
  },
  {
   "cell_type": "markdown",
   "id": "2ed2b66e",
   "metadata": {},
   "source": [
    "## Посчитаем 95-й и 99-й перцентиль кол-ва заказов по пользователям"
   ]
  },
  {
   "cell_type": "code",
   "execution_count": 34,
   "id": "b3c5dd54",
   "metadata": {},
   "outputs": [
    {
     "name": "stdout",
     "output_type": "stream",
     "text": [
      "[1. 2.]\n"
     ]
    }
   ],
   "source": [
    "print(np.percentile(ordersByUsers['transactionId'], [95, 99])) "
   ]
  },
  {
   "cell_type": "markdown",
   "id": "646e0611",
   "metadata": {},
   "source": [
    "Зададим переменные  95-й и 99-й перцентилей"
   ]
  },
  {
   "cell_type": "code",
   "execution_count": 35,
   "id": "ea7e20e4",
   "metadata": {},
   "outputs": [
    {
     "name": "stdout",
     "output_type": "stream",
     "text": [
      "1.0 2.0\n"
     ]
    }
   ],
   "source": [
    "percentile_transaction_95 = round(np.percentile(ordersByUsers['transactionId'], [95, 99])[0], 2)\n",
    "percentile_transaction_99 = round(np.percentile(ordersByUsers['transactionId'], [95, 99])[1], 2)\n",
    "print(percentile_transaction_95, percentile_transaction_99)"
   ]
  },
  {
   "cell_type": "markdown",
   "id": "1ec9336b",
   "metadata": {},
   "source": [
    "### Вывод\n",
    "Не более 5% пользователей совершали 2 заказа, и не более 1% больше 4 заказов."
   ]
  },
  {
   "cell_type": "markdown",
   "id": "dadf2c89",
   "metadata": {},
   "source": [
    "<div style=\"border:solid green 2px; padding: 20px\"> \n",
    "    \n",
    "**Комментарий ревьюера**\n",
    "\n",
    "    \n",
    "**#ок**\n",
    "\n",
    "Верный расчет\n",
    "    \n",
    "</div>"
   ]
  },
  {
   "cell_type": "markdown",
   "id": "ac73d0de",
   "metadata": {},
   "source": [
    "## Построим точеченый график стоимости заказов"
   ]
  },
  {
   "cell_type": "code",
   "execution_count": 36,
   "id": "fcba66d0",
   "metadata": {},
   "outputs": [
    {
     "name": "stdout",
     "output_type": "stream",
     "text": [
      "      transactionId   visitorId       date  revenue group\n",
      "425       590470918  1920142716 2019-08-19  1294500     B\n",
      "1196     3936777065  2108080724 2019-08-15   202740     B\n",
      "1136      666610489  1307669133 2019-08-13    92550     A\n",
      "744      3668308183   888512513 2019-08-27    86620     B\n",
      "743      3603576309  4133034833 2019-08-09    67990     A\n",
      "1103     1348774318  1164614297 2019-08-12    66350     A\n",
      "1099      316924019   148427295 2019-08-12    65710     A\n",
      "949      1347999392   887908475 2019-08-21    60450     A\n",
      "940      2420050534  4003628586 2019-08-08    58550     B\n",
      "131      3163614039  2254586615 2019-08-22    53904     A\n"
     ]
    },
    {
     "data": {
      "text/plain": [
       "<matplotlib.collections.PathCollection at 0x21926a4a250>"
      ]
     },
     "execution_count": 36,
     "metadata": {},
     "output_type": "execute_result"
    },
    {
     "data": {
      "image/png": "[encoded data removed]",
      "text/plain": [
       "<Figure size 432x288 with 1 Axes>"
      ]
     },
     "metadata": {
      "needs_background": "light"
     },
     "output_type": "display_data"
    }
   ],
   "source": [
    "print(orders.sort_values(by='revenue', ascending=False).head(10))\n",
    "x_values = pd.Series(range(0, len(orders['revenue'])))\n",
    "plt.scatter(x_values, orders['revenue']) "
   ]
  },
  {
   "cell_type": "markdown",
   "id": "98222e99",
   "metadata": {},
   "source": [
    "### Вывод\n",
    "Заказов свыше 90 000 очень мало, есть выбросы в районе 200 000 и 1 300 000 "
   ]
  },
  {
   "cell_type": "markdown",
   "id": "56b7425e",
   "metadata": {},
   "source": [
    "## Посчитаем 95-й и 99-й перцентиль стоимости заказов пользователей"
   ]
  },
  {
   "cell_type": "code",
   "execution_count": 37,
   "id": "1f3e3929",
   "metadata": {},
   "outputs": [
    {
     "name": "stdout",
     "output_type": "stream",
     "text": [
      "[26785. 53904.]\n"
     ]
    }
   ],
   "source": [
    "print(np.percentile(orders['revenue'], [95, 99])) "
   ]
  },
  {
   "cell_type": "markdown",
   "id": "e6d8f57d",
   "metadata": {},
   "source": [
    "Зададим переменные  95-й и 99-й перцентилей"
   ]
  },
  {
   "cell_type": "code",
   "execution_count": null,
   "id": "ee66ced4",
   "metadata": {},
   "outputs": [],
   "source": [
    "percentile_revenue_95 = round(np.percentile(orders['revenue'], [95, 99])[0], 2)\n",
    "percentile_revenue_99 = round(np.percentile(orders['revenue'], [95, 99])[1], 2)\n",
    "print(percentile_95, percentile_99)"
   ]
  },
  {
   "cell_type": "markdown",
   "id": "20e1fd11",
   "metadata": {},
   "source": [
    "### Вывод\n",
    "Не более 5% заказов стоимость 28 000, и не более 1% - 58 000. Отсекаем клиентов со стоимостью заказов более 58 000. т.е. 1% аномальных заказов"
   ]
  },
  {
   "cell_type": "markdown",
   "id": "dc45f868",
   "metadata": {},
   "source": [
    "## Посчитаем статистическую значимость различий в конверсии между группами по сырым данным"
   ]
  },
  {
   "cell_type": "markdown",
   "id": "628df100",
   "metadata": {},
   "source": [
    "Сформулируем гипотезы. Нулевая: различий в конверсии между группами нет. Альтернативная: различия в конверсии между группами есть."
   ]
  },
  {
   "cell_type": "markdown",
   "id": "38b9a049",
   "metadata": {},
   "source": [
    "Создадим следующие столбцы:\n",
    "*    date — дата;\n",
    "*    ordersPerDateA — количество заказов в выбранную дату в группе A;\n",
    "*    revenuePerDateA — суммарная выручка в выбранную дату в группе A;\n",
    "*    ordersPerDateB — количество заказов в выбранную дату в группе B;\n",
    "*    revenuePerDateB — суммарная выручка в выбранную дату в группе B;\n",
    "*    ordersCummulativeA — суммарное число заказов до выбранной даты включительно в группе A;\n",
    "*    revenueCummulativeA — суммарная выручка до выбранной даты включительно в группе A;\n",
    "*    ordersCummulativeB — суммарное количество заказов до выбранной даты включительно в группе B;\n",
    "*    revenueCummulativeB — суммарная выручка до выбранной даты включительно в группе B;\n",
    "*    visitorsPerDateA — количество пользователей в выбранную дату в группе A;\n",
    "*    visitorsPerDateB — количество пользователей в выбранную дату в группе B;\n",
    "*    visitorsCummulativeA — количество пользователей до выбранной даты включительно в группе A;\n",
    "*    visitorsCummulativeB — количество пользователей до выбранной даты включительно в группе B."
   ]
  },
  {
   "cell_type": "code",
   "execution_count": null,
   "id": "19520005",
   "metadata": {},
   "outputs": [],
   "source": [
    "visitorsADaily = visitors[visitors['group'] == 'A'][['date', 'visitors']]\n",
    "visitorsADaily.columns = ['date', 'visitorsPerDateA']\n",
    "\n",
    "visitorsACummulative = visitorsADaily.apply(\n",
    "    lambda x: visitorsADaily[visitorsADaily['date'] <= x['date']].agg(\n",
    "        {'date': 'max', 'visitorsPerDateA': 'sum'}\n",
    "    ),\n",
    "    axis=1,\n",
    ")\n",
    "visitorsACummulative.columns = ['date', 'visitorsCummulativeA']\n",
    "\n",
    "visitorsBDaily = visitors[visitors['group'] == 'B'][['date', 'visitors']]\n",
    "visitorsBDaily.columns = ['date', 'visitorsPerDateB']\n",
    "\n",
    "visitorsBCummulative = visitorsBDaily.apply(\n",
    "    lambda x: visitorsBDaily[visitorsBDaily['date'] <= x['date']].agg(\n",
    "        {'date': 'max', 'visitorsPerDateB': 'sum'}\n",
    "    ),\n",
    "    axis=1,\n",
    ")\n",
    "visitorsBCummulative.columns = ['date', 'visitorsCummulativeB']\n",
    "\n",
    "ordersADaily = (\n",
    "    orders[orders['group'] == 'A'][['date', 'transactionId', 'visitorId', 'revenue']]\n",
    "    .groupby('date', as_index=False)\n",
    "    .agg({'transactionId': pd.Series.nunique, 'revenue': 'sum'})\n",
    ")\n",
    "ordersADaily.columns = ['date', 'ordersPerDateA', 'revenuePerDateA']\n",
    "\n",
    "ordersACummulative = ordersADaily.apply(\n",
    "    lambda x: ordersADaily[ordersADaily['date'] <= x['date']].agg(\n",
    "        {'date': 'max', 'ordersPerDateA': 'sum', 'revenuePerDateA': 'sum'}\n",
    "    ),\n",
    "    axis=1,\n",
    ").sort_values(by=['date'])\n",
    "ordersACummulative.columns = [\n",
    "    'date',\n",
    "    'ordersCummulativeA',\n",
    "    'revenueCummulativeA',\n",
    "]\n",
    "\n",
    "ordersBDaily = (\n",
    "    orders[orders['group'] == 'B'][['date', 'transactionId', 'visitorId', 'revenue']]\n",
    "    .groupby('date', as_index=False)\n",
    "    .agg({'transactionId': pd.Series.nunique, 'revenue': 'sum'})\n",
    ")\n",
    "ordersBDaily.columns = ['date', 'ordersPerDateB', 'revenuePerDateB']\n",
    "\n",
    "ordersBCummulative = ordersBDaily.apply(\n",
    "    lambda x: ordersBDaily[ordersBDaily['date'] <= x['date']].agg(\n",
    "        {'date': 'max', 'ordersPerDateB': 'sum', 'revenuePerDateB': 'sum'}\n",
    "    ),\n",
    "    axis=1,\n",
    ").sort_values(by=['date'])\n",
    "ordersBCummulative.columns = [\n",
    "    'date',\n",
    "    'ordersCummulativeB',\n",
    "    'revenueCummulativeB',\n",
    "]\n",
    "\n",
    "data = (\n",
    "    ordersADaily.merge(\n",
    "        ordersBDaily, left_on='date', right_on='date', how='left'\n",
    "    )\n",
    "    .merge(ordersACummulative, left_on='date', right_on='date', how='left')\n",
    "    .merge(ordersBCummulative, left_on='date', right_on='date', how='left')\n",
    "    .merge(visitorsADaily, left_on='date', right_on='date', how='left')\n",
    "    .merge(visitorsBDaily, left_on='date', right_on='date', how='left')\n",
    "    .merge(visitorsACummulative, left_on='date', right_on='date', how='left')\n",
    "    .merge(visitorsBCummulative, left_on='date', right_on='date', how='left')\n",
    ")\n",
    "\n",
    "display(data.head(5)) "
   ]
  },
  {
   "cell_type": "markdown",
   "id": "348c1d99",
   "metadata": {},
   "source": [
    "Создадим датафреймы ordersByUsersA и ordersByUsersB со столбцами visitorId, transactionId"
   ]
  },
  {
   "cell_type": "code",
   "execution_count": null,
   "id": "9da3590f",
   "metadata": {},
   "outputs": [],
   "source": [
    "ordersByUsersA = (\n",
    "    orders[orders['group'] == 'A']\n",
    "    .groupby('visitorId', as_index=False)\n",
    "    .agg({'transactionId': pd.Series.nunique})\n",
    ")\n",
    "\n",
    "ordersByUsersB = (\n",
    "    orders[orders['group'] == 'B']\n",
    "    .groupby('visitorId', as_index=False)\n",
    "    .agg({'transactionId': pd.Series.nunique})\n",
    ")\n",
    "display(ordersByUsersA.head())\n",
    "display(ordersByUsersB.head())"
   ]
  },
  {
   "cell_type": "markdown",
   "id": "061998c4",
   "metadata": {},
   "source": [
    "Объявим переменные sampleA и sampleB"
   ]
  },
  {
   "cell_type": "code",
   "execution_count": null,
   "id": "7b5bda1f",
   "metadata": {},
   "outputs": [],
   "source": [
    "sampleA = pd.concat([ordersByUsersA['transactionId'],\n",
    "                     pd.Series(0, index=np.arange(data['visitorsPerDateA'].sum() - len(ordersByUsersA['transactionId'])), \n",
    "                               name='transactionId')],axis=0)\n",
    "\n",
    "sampleB = pd.concat([ordersByUsersB['transactionId'],\n",
    "                     pd.Series(0, index=np.arange(data['visitorsPerDateB'].sum() - len(ordersByUsersB['transactionId'])), \n",
    "                               name='transactionId')],axis=0)\n",
    "display(sampleA.head())\n",
    "display(sampleB.head())"
   ]
  },
  {
   "cell_type": "markdown",
   "id": "fa0da7c8",
   "metadata": {},
   "source": [
    "Выведем относительный прирост конверсии группы B: конверсия группы B / конверсия группы A - 1"
   ]
  },
  {
   "cell_type": "code",
   "execution_count": null,
   "id": "ad859b51",
   "metadata": {},
   "outputs": [],
   "source": [
    "ordersByUsersA = (\n",
    "    orders[orders['group'] == 'A']\n",
    "    .groupby('visitorId', as_index=False)\n",
    "    .agg({'transactionId': pd.Series.nunique})\n",
    ")\n",
    "\n",
    "ordersByUsersB = (\n",
    "    orders[orders['group'] == 'B']\n",
    "    .groupby('visitorId', as_index=False)\n",
    "    .agg({'transactionId': pd.Series.nunique})\n",
    ")\n",
    "\n",
    "sampleA = pd.concat(\n",
    "    [\n",
    "        ordersByUsersA['transactionId'],\n",
    "        pd.Series(\n",
    "            0,\n",
    "            index=np.arange(\n",
    "                data['visitorsPerDateA'].sum() - len(ordersByUsersA['transactionId'])\n",
    "            ),\n",
    "            name='transactionId',\n",
    "        ),\n",
    "    ],\n",
    "    axis=0,\n",
    ")\n",
    "\n",
    "sampleB = pd.concat(\n",
    "    [\n",
    "        ordersByUsersB['transactionId'],\n",
    "        pd.Series(\n",
    "            0,\n",
    "            index=np.arange(\n",
    "                data['visitorsPerDateB'].sum() - len(ordersByUsersB['transactionId'])\n",
    "            ),\n",
    "            name='transactionId',\n",
    "        ),\n",
    "    ],\n",
    "    axis=0,\n",
    ")\n",
    "\n",
    "print(\"{0:.3f}\".format(stats.mannwhitneyu(sampleA, sampleB)[1]))\n",
    "\n",
    "print(\"{0:.3f}\".format(sampleB.mean() / sampleA.mean() - 1))\n"
   ]
  },
  {
   "cell_type": "markdown",
   "id": "acf3c658",
   "metadata": {},
   "source": [
    "### Вывод\n",
    "По «сырым» данным различий в конверсии групп A и B нет.\n",
    "Первое число — p-value = 0.017 меньше 0.05. Значит, что в конверсии между группами есть статистические различия. Относительный прирост конверсии группы B к конверсии группы А равен 13.8%."
   ]
  },
  {
   "cell_type": "markdown",
   "id": "0590dd29",
   "metadata": {},
   "source": [
    "## Посчитаем статистическую значимость различий в среднем чеке заказа между группами по сырым данным"
   ]
  },
  {
   "cell_type": "markdown",
   "id": "34db1de6",
   "metadata": {},
   "source": [
    "Теперь проверим статистическую значимость различий в среднем чеке между сегментами. Нулевая гипотеза: различий в среднем чеке между группами нет. Альтернативная гипотеза: различия в среднем чеке между группами есть."
   ]
  },
  {
   "cell_type": "code",
   "execution_count": null,
   "id": "a198740a",
   "metadata": {},
   "outputs": [],
   "source": [
    "print('{0:.3f}'.format(stats.mannwhitneyu(orders[orders['group']=='A']['revenue'], orders[orders['group']=='B']['revenue'])[1]))\n",
    "print('{0:.3f}'.format(orders[orders['group']=='B']['revenue'].mean()/orders[orders['group']=='A']['revenue'].mean()-1)) "
   ]
  },
  {
   "cell_type": "markdown",
   "id": "a338b9e9",
   "metadata": {},
   "source": [
    "### Вывод\n",
    "P-value значительно больше 0.05. Значит, причин отвергать нулевую гипотезу и считать, что в среднем чеке есть различия, нет. Впрочем, средний чек группы B значительно выше среднего чека группы A."
   ]
  },
  {
   "cell_type": "markdown",
   "id": "9d8d33ad",
   "metadata": {},
   "source": [
    "## Посчитаем статистическую значимость различий в конверсии между группами по очищенным данным"
   ]
  },
  {
   "cell_type": "markdown",
   "id": "204e02ee",
   "metadata": {},
   "source": [
    "Узнаем, сколько всего аномальных пользователей методом shape()"
   ]
  },
  {
   "cell_type": "markdown",
   "id": "c4618b14",
   "metadata": {},
   "source": [
    "Напомним, что найденные в прошлых уроках 95-й и 99-й перцентили средних чеков равны 28 000 и 58 233 рублям. А 95-й и 99-й перцентили количества заказов на одного пользователя равны 2 и 4 заказа на пользователя.\n",
    "Примем за аномальных пользователей тех, кто совершил от 5 заказов или совершил заказ дороже 20 000 рублей. Так мы уберём 1% пользователей с наибольшим числом заказов и от 1% пользователей с дорогими заказами."
   ]
  },
  {
   "cell_type": "code",
   "execution_count": null,
   "id": "a6e70086",
   "metadata": {},
   "outputs": [],
   "source": [
    "usersWithManyOrders = pd.concat(\n",
    "    [\n",
    "        ordersByUsersA[ordersByUsersA['transactionId'] > percentile_transaction_99]['visitorId'],\n",
    "        ordersByUsersB[ordersByUsersB['transactionId'] > percentile_transaction_99]['visitorId'],\n",
    "    ],\n",
    "    axis=0,\n",
    ")\n",
    "usersWithExpensiveOrders = orders[orders['revenue'] > percentile_revenue_99]['visitorId']\n",
    "abnormalUsers = (\n",
    "    pd.concat([usersWithManyOrders, usersWithExpensiveOrders], axis=0)\n",
    "    .drop_duplicates()\n",
    "    .sort_values()\n",
    ")\n",
    "print(abnormalUsers.head(5))\n",
    "print(abnormalUsers.shape[0]) "
   ]
  },
  {
   "cell_type": "markdown",
   "id": "2166e763",
   "metadata": {},
   "source": [
    "Всего 15 аномальных пользователей."
   ]
  },
  {
   "cell_type": "markdown",
   "id": "a459bc6b",
   "metadata": {},
   "source": [
    "Посчитаем статистическую значимость различий в конверсии между группами теста по очищенным данным."
   ]
  },
  {
   "cell_type": "code",
   "execution_count": null,
   "id": "d9f531b8",
   "metadata": {},
   "outputs": [],
   "source": [
    "sampleAFiltered = pd.concat(\n",
    "    [\n",
    "        ordersByUsersA[\n",
    "            np.logical_not(ordersByUsersA['visitorId'].isin(abnormalUsers))\n",
    "        ]['transactionId'],\n",
    "        pd.Series(\n",
    "            0,\n",
    "            index=np.arange(\n",
    "                data['visitorsPerDateA'].sum() - len(ordersByUsersA['transactionId'])\n",
    "            ),\n",
    "            name='transactionId',\n",
    "        ),\n",
    "    ],\n",
    "    axis=0,\n",
    ")\n",
    "\n",
    "sampleBFiltered = pd.concat(\n",
    "    [\n",
    "        ordersByUsersB[\n",
    "            np.logical_not(ordersByUsersB['visitorId'].isin(abnormalUsers))\n",
    "        ]['transactionId'],\n",
    "        pd.Series(\n",
    "            0,\n",
    "            index=np.arange(\n",
    "                data['visitorsPerDateB'].sum() - len(ordersByUsersB['transactionId'])\n",
    "            ),\n",
    "            name='transactionId',\n",
    "        ),\n",
    "    ],\n",
    "    axis=0,\n",
    ") \n",
    "\n",
    "print('{0:.3f}'.format(stats.mannwhitneyu(sampleAFiltered, sampleBFiltered)[1]))\n",
    "print('{0:.3f}'.format(sampleBFiltered.mean()/sampleAFiltered.mean()-1)) "
   ]
  },
  {
   "cell_type": "markdown",
   "id": "e2d44897",
   "metadata": {},
   "source": [
    "### Вывод\n",
    "Статитстическая значимость дотигнута. Результаты по конверсии практически не изменились с сырыми данными. Сегмент В значительно лучше А"
   ]
  },
  {
   "cell_type": "markdown",
   "id": "53aea29a",
   "metadata": {},
   "source": [
    "## Посчитаем статистическую значимость различий по среднему чеку между группами по очищенным данным"
   ]
  },
  {
   "cell_type": "code",
   "execution_count": null,
   "id": "e3a73715",
   "metadata": {},
   "outputs": [],
   "source": [
    "print(\n",
    "    '{0:.3f}'.format(\n",
    "        stats.mannwhitneyu(\n",
    "            orders[\n",
    "                np.logical_and(\n",
    "                    orders['group'] == 'A',\n",
    "                    np.logical_not(orders['visitorId'].isin(abnormalUsers)),\n",
    "                )\n",
    "            ]['revenue'],\n",
    "            orders[\n",
    "                np.logical_and(\n",
    "                    orders['group'] == 'B',\n",
    "                    np.logical_not(orders['visitorId'].isin(abnormalUsers)),\n",
    "                )\n",
    "            ]['revenue'],\n",
    "        )[1]\n",
    "    )\n",
    ")\n",
    "\n",
    "print(\n",
    "    \"{0:.3f}\".format(\n",
    "        orders[\n",
    "            np.logical_and(\n",
    "                orders['group'] == 'B',\n",
    "                np.logical_not(orders['visitorId'].isin(abnormalUsers)),\n",
    "            )\n",
    "        ]['revenue'].mean()\n",
    "        / orders[\n",
    "            np.logical_and(\n",
    "                orders['group'] == 'A',\n",
    "                np.logical_not(orders['visitorId'].isin(abnormalUsers)),\n",
    "            )\n",
    "        ]['revenue'].mean()\n",
    "        - 1\n",
    "    )\n",
    ") "
   ]
  },
  {
   "cell_type": "markdown",
   "id": "a955b551",
   "metadata": {},
   "source": [
    "### Вывод\n",
    "Различий между группами так же нет, P-value не изменилось, но и разница между сегментами сократилась с 26% до 2%. Значит аномально большие средние чеки были в группе В."
   ]
  },
  {
   "cell_type": "markdown",
   "id": "2fbf2623",
   "metadata": {},
   "source": [
    "## Вывод\n",
    "* Есть статистически значимое различие по конверсии между группами по «сырым», и по данным после фильтрации аномалий даже отношение увеличилось группы В к группе А с 13,8% до 17,3%;\n",
    "\n",
    "* Нет статистически значимого различия по среднему чеку между группами ни по «сырым», ни по данным после фильтрации аномалий, но отношение группы В к группе А уменьшилось с 25,9% до -0,6%, т.е средний чек у группы А стал больше. Значит Аномальные значения среднего чека значительно влияли на отношение групп.;\n",
    "\n",
    "* График различия конверсии между группами сообщает, что результаты группы B лучше группы A.\n",
    "\n",
    "* График различия среднего чека говорит о том, что результаты группы B лучше чем группа А, но на эт влияют аномальные значения как мы увидели из проверки гипотез.\n",
    "\n",
    "Необходимо завершить тест и зафиксировать следующие результаты:\n",
    "\n",
    "* Конверсия увеличилась несмотря на аномальные заказы, о очищенным данным составиа 17,3% это очень хороший результат.\n",
    "\n",
    "* Но как видим средний чек можно сказать неизменился.\n",
    "\n",
    "Но а по приоритизации гипотез, самые перспективные получились:\n",
    "\n",
    "* Добавить форму подписки на все основные страницы, чтобы собрать базу клиентов для email-рассылок.\n",
    "\n",
    "* Добавить блоки рекомендаций товаров на сайт интернет магазина, чтобы повысить конверсию и средний чек заказа"
   ]
  }
 ],
 "metadata": {
  "ExecuteTimeLog": [
   {
    "duration": 1375,
    "start_time": "2022-05-10T07:30:19.302Z"
   },
   {
    "duration": 287,
    "start_time": "2022-05-10T07:30:20.679Z"
   },
   {
    "duration": 0,
    "start_time": "2022-05-10T07:30:20.968Z"
   },
   {
    "duration": 11,
    "start_time": "2022-05-10T07:30:21.086Z"
   },
   {
    "duration": 8,
    "start_time": "2022-05-10T07:30:21.447Z"
   },
   {
    "duration": 39,
    "start_time": "2022-05-10T07:31:39.451Z"
   },
   {
    "duration": 4,
    "start_time": "2022-05-10T07:31:44.400Z"
   },
   {
    "duration": 63,
    "start_time": "2022-05-10T07:31:45.145Z"
   },
   {
    "duration": 7,
    "start_time": "2022-05-10T07:31:45.985Z"
   },
   {
    "duration": 40,
    "start_time": "2022-05-10T07:31:46.672Z"
   },
   {
    "duration": 64,
    "start_time": "2022-05-10T07:31:47.128Z"
   },
   {
    "duration": 9,
    "start_time": "2022-05-10T07:31:48.896Z"
   },
   {
    "duration": 19,
    "start_time": "2022-05-10T07:31:49.225Z"
   },
   {
    "duration": 6,
    "start_time": "2022-05-10T07:31:50.232Z"
   },
   {
    "duration": 17,
    "start_time": "2022-05-10T07:31:50.690Z"
   },
   {
    "duration": 364,
    "start_time": "2022-05-10T07:31:51.096Z"
   },
   {
    "duration": 7,
    "start_time": "2022-05-10T07:31:51.888Z"
   },
   {
    "duration": 8,
    "start_time": "2022-05-10T07:31:52.071Z"
   },
   {
    "duration": 9,
    "start_time": "2022-05-10T07:31:52.441Z"
   },
   {
    "duration": 22,
    "start_time": "2022-05-10T07:31:56.003Z"
   },
   {
    "duration": 15,
    "start_time": "2022-05-10T07:31:56.029Z"
   },
   {
    "duration": 303,
    "start_time": "2022-05-10T07:31:56.048Z"
   },
   {
    "duration": 248,
    "start_time": "2022-05-10T07:31:56.353Z"
   },
   {
    "duration": 34,
    "start_time": "2022-05-10T07:31:56.605Z"
   },
   {
    "duration": 494,
    "start_time": "2022-05-10T07:31:56.642Z"
   },
   {
    "duration": 367,
    "start_time": "2022-05-10T07:31:57.139Z"
   },
   {
    "duration": 475,
    "start_time": "2022-05-10T07:31:57.510Z"
   },
   {
    "duration": 14,
    "start_time": "2022-05-10T07:31:57.988Z"
   },
   {
    "duration": 362,
    "start_time": "2022-05-10T07:31:59.602Z"
   },
   {
    "duration": 15,
    "start_time": "2022-05-10T07:32:00.125Z"
   }
  ],
  "kernelspec": {
   "display_name": "Python 3 (ipykernel)",
   "language": "python",
   "name": "python3"
  },
  "language_info": {
   "codemirror_mode": {
    "name": "ipython",
    "version": 3
   },
   "file_extension": ".py",
   "mimetype": "text/x-python",
   "name": "python",
   "nbconvert_exporter": "python",
   "pygments_lexer": "ipython3",
   "version": "3.9.7"
  },
  "toc": {
   "base_numbering": 1,
   "nav_menu": {},
   "number_sections": true,
   "sideBar": true,
   "skip_h1_title": false,
   "title_cell": "Table of Contents",
   "title_sidebar": "Contents",
   "toc_cell": true,
   "toc_position": {
    "height": "calc(100% - 180px)",
    "left": "10px",
    "top": "150px",
    "width": "462.5px"
   },
   "toc_section_display": true,
   "toc_window_display": true
  }
 },
 "nbformat": 4,
 "nbformat_minor": 5
}
